{
 "cells": [
  {
   "cell_type": "markdown",
   "metadata": {},
   "source": [
    "### Predicting Dota 2 Draft Strength Using Keras."
   ]
  },
  {
   "cell_type": "markdown",
   "metadata": {},
   "source": [
    "### Using Team Heroes Input or Hero Input we will try to predict which draft has a better chance of winning."
   ]
  },
  {
   "cell_type": "code",
   "execution_count": 1,
   "metadata": {},
   "outputs": [
    {
     "name": "stderr",
     "output_type": "stream",
     "text": [
      "C:\\Users\\shrin\\AppData\\Local\\conda\\conda\\envs\\Work\\lib\\site-packages\\h5py\\__init__.py:36: FutureWarning: Conversion of the second argument of issubdtype from `float` to `np.floating` is deprecated. In future, it will be treated as `np.float64 == np.dtype(float).type`.\n",
      "  from ._conv import register_converters as _register_converters\n",
      "Using TensorFlow backend.\n"
     ]
    }
   ],
   "source": [
    "import pandas as pd\n",
    "import numpy as np\n",
    "from matplotlib import pyplot as plt\n",
    "from ffnn_model import ffnn_hero_model, ffnn_team_model\n",
    "from lstm_model import lstm_hero_model, lstm_team_model\n",
    "from lstm_ffnn_model import lstm_ffnn_hero_model, lstm_ffnn_team_model\n",
    "from cycler import cycler\n"
   ]
  },
  {
   "cell_type": "markdown",
   "metadata": {},
   "source": [
    "#### Structuring data for Hero Model."
   ]
  },
  {
   "cell_type": "markdown",
   "metadata": {},
   "source": [
    "#### Import Data as Pandas Dataframe Object."
   ]
  },
  {
   "cell_type": "code",
   "execution_count": 2,
   "metadata": {},
   "outputs": [],
   "source": [
    "Dota_2_DF = pd.read_csv('Dota_2_Cleaned_Data.csv')\n",
    "Dota_2_DF_Label = pd.read_csv('Dota_2_Model_Data.csv')\n"
   ]
  },
  {
   "cell_type": "code",
   "execution_count": 3,
   "metadata": {},
   "outputs": [
    {
     "name": "stdout",
     "output_type": "stream",
     "text": [
      "(108800, 17)\n",
      "(544000, 18)\n"
     ]
    }
   ],
   "source": [
    "print(Dota_2_DF_Label.shape)\n",
    "print(Dota_2_DF.shape)"
   ]
  },
  {
   "cell_type": "markdown",
   "metadata": {},
   "source": [
    "#### View Dataframe."
   ]
  },
  {
   "cell_type": "code",
   "execution_count": 4,
   "metadata": {},
   "outputs": [
    {
     "data": {
      "text/html": [
       "<div>\n",
       "<style scoped>\n",
       "    .dataframe tbody tr th:only-of-type {\n",
       "        vertical-align: middle;\n",
       "    }\n",
       "\n",
       "    .dataframe tbody tr th {\n",
       "        vertical-align: top;\n",
       "    }\n",
       "\n",
       "    .dataframe thead th {\n",
       "        text-align: right;\n",
       "    }\n",
       "</style>\n",
       "<table border=\"1\" class=\"dataframe\">\n",
       "  <thead>\n",
       "    <tr style=\"text-align: right;\">\n",
       "      <th></th>\n",
       "      <th>Unnamed: 0</th>\n",
       "      <th>Hero_1</th>\n",
       "      <th>Hero_2</th>\n",
       "      <th>Hero_3</th>\n",
       "      <th>Hero_4</th>\n",
       "      <th>Hero_5</th>\n",
       "      <th>Kills</th>\n",
       "      <th>Deaths</th>\n",
       "      <th>Assists</th>\n",
       "      <th>Last_Hits</th>\n",
       "      <th>Denies</th>\n",
       "      <th>GPM</th>\n",
       "      <th>XPM</th>\n",
       "      <th>Networth</th>\n",
       "      <th>XP</th>\n",
       "      <th>Win/Loss</th>\n",
       "      <th>Duration</th>\n",
       "    </tr>\n",
       "  </thead>\n",
       "  <tbody>\n",
       "    <tr>\n",
       "      <th>0</th>\n",
       "      <td>0</td>\n",
       "      <td>34</td>\n",
       "      <td>63</td>\n",
       "      <td>83</td>\n",
       "      <td>67</td>\n",
       "      <td>97</td>\n",
       "      <td>39</td>\n",
       "      <td>48</td>\n",
       "      <td>79</td>\n",
       "      <td>1499</td>\n",
       "      <td>17</td>\n",
       "      <td>2312</td>\n",
       "      <td>2824</td>\n",
       "      <td>122085</td>\n",
       "      <td>181281</td>\n",
       "      <td>5</td>\n",
       "      <td>3647</td>\n",
       "    </tr>\n",
       "  </tbody>\n",
       "</table>\n",
       "</div>"
      ],
      "text/plain": [
       "   Unnamed: 0  Hero_1  Hero_2  Hero_3  Hero_4  Hero_5  Kills  Deaths  Assists  \\\n",
       "0           0      34      63      83      67      97     39      48       79   \n",
       "\n",
       "   Last_Hits  Denies   GPM   XPM  Networth      XP  Win/Loss  Duration  \n",
       "0       1499      17  2312  2824    122085  181281         5      3647  "
      ]
     },
     "execution_count": 4,
     "metadata": {},
     "output_type": "execute_result"
    }
   ],
   "source": [
    "Dota_2_DF_Label.head(1)"
   ]
  },
  {
   "cell_type": "code",
   "execution_count": 5,
   "metadata": {},
   "outputs": [
    {
     "data": {
      "text/html": [
       "<div>\n",
       "<style scoped>\n",
       "    .dataframe tbody tr th:only-of-type {\n",
       "        vertical-align: middle;\n",
       "    }\n",
       "\n",
       "    .dataframe tbody tr th {\n",
       "        vertical-align: top;\n",
       "    }\n",
       "\n",
       "    .dataframe thead th {\n",
       "        text-align: right;\n",
       "    }\n",
       "</style>\n",
       "<table border=\"1\" class=\"dataframe\">\n",
       "  <thead>\n",
       "    <tr style=\"text-align: right;\">\n",
       "      <th></th>\n",
       "      <th>Unnamed: 0</th>\n",
       "      <th>Hero_ID</th>\n",
       "      <th>Hero_ID_2</th>\n",
       "      <th>Kills</th>\n",
       "      <th>Deaths</th>\n",
       "      <th>Assists</th>\n",
       "      <th>Available_Gold</th>\n",
       "      <th>Last_Hits</th>\n",
       "      <th>Denies</th>\n",
       "      <th>GPM</th>\n",
       "      <th>XPM</th>\n",
       "      <th>Networth</th>\n",
       "      <th>XP</th>\n",
       "      <th>Stat_1</th>\n",
       "      <th>MVP_Votes</th>\n",
       "      <th>Duration</th>\n",
       "      <th>Win/Loss</th>\n",
       "      <th>Match_ID</th>\n",
       "    </tr>\n",
       "  </thead>\n",
       "  <tbody>\n",
       "    <tr>\n",
       "      <th>0</th>\n",
       "      <td>0</td>\n",
       "      <td>34</td>\n",
       "      <td>34</td>\n",
       "      <td>5</td>\n",
       "      <td>10</td>\n",
       "      <td>16</td>\n",
       "      <td>6859</td>\n",
       "      <td>474</td>\n",
       "      <td>3</td>\n",
       "      <td>549</td>\n",
       "      <td>558</td>\n",
       "      <td>26655</td>\n",
       "      <td>45146</td>\n",
       "      <td>41</td>\n",
       "      <td>0</td>\n",
       "      <td>3647</td>\n",
       "      <td>1</td>\n",
       "      <td>0</td>\n",
       "    </tr>\n",
       "  </tbody>\n",
       "</table>\n",
       "</div>"
      ],
      "text/plain": [
       "   Unnamed: 0  Hero_ID  Hero_ID_2  Kills  Deaths  Assists  Available_Gold  \\\n",
       "0           0       34         34      5      10       16            6859   \n",
       "\n",
       "   Last_Hits  Denies  GPM  XPM  Networth     XP  Stat_1  MVP_Votes  Duration  \\\n",
       "0        474       3  549  558     26655  45146      41          0      3647   \n",
       "\n",
       "   Win/Loss  Match_ID  \n",
       "0         1         0  "
      ]
     },
     "execution_count": 5,
     "metadata": {},
     "output_type": "execute_result"
    }
   ],
   "source": [
    "Dota_2_DF.head(1)"
   ]
  },
  {
   "cell_type": "markdown",
   "metadata": {},
   "source": [
    "#### Taking 50000 matches data and defining model variables and label."
   ]
  },
  {
   "cell_type": "code",
   "execution_count": 6,
   "metadata": {},
   "outputs": [],
   "source": [
    "Label_Data = Dota_2_DF_Label.iloc[::2]\n",
    "Dota_2_DF =Dota_2_DF.head(500000)\n",
    "Label_Data = Label_Data.head(50000)['Win/Loss']\n",
    "Label_Data = Label_Data.values\n",
    "Label_Data[Label_Data >= 1] = 1"
   ]
  },
  {
   "cell_type": "markdown",
   "metadata": {},
   "source": [
    "#### Taking ID for every Hero in respective variable, where Hero_1 to Hero_5 is Team 1 and Hero_6 to Hero_10 is Team 2\n"
   ]
  },
  {
   "cell_type": "code",
   "execution_count": 7,
   "metadata": {},
   "outputs": [],
   "source": [
    "Hero_1 = Dota_2_DF.iloc[::10, :]['Hero_ID']\n",
    "Hero_1 = Hero_1.values\n",
    "Hero_2 = Dota_2_DF.iloc[1::10, :]['Hero_ID']\n",
    "Hero_2 = Hero_2.values\n",
    "Hero_3 = Dota_2_DF.iloc[2::10, :]['Hero_ID']\n",
    "Hero_3 = Hero_3.values\n",
    "Hero_4 = Dota_2_DF.iloc[3::10, :]['Hero_ID']\n",
    "Hero_4 = Hero_4.values\n",
    "Hero_5 = Dota_2_DF.iloc[4::10, :]['Hero_ID']\n",
    "Hero_5 = Hero_5.values\n",
    "Hero_6 = Dota_2_DF.iloc[5::10, :]['Hero_ID']\n",
    "Hero_6 = Hero_6.values\n",
    "Hero_7 = Dota_2_DF.iloc[6::10, :]['Hero_ID']\n",
    "Hero_7 = Hero_7.values\n",
    "Hero_8 = Dota_2_DF.iloc[7::10, :]['Hero_ID']\n",
    "Hero_8 = Hero_8.values\n",
    "Hero_9 = Dota_2_DF.iloc[8::10, :]['Hero_ID']\n",
    "Hero_9 = Hero_9.values\n",
    "Hero_10 = Dota_2_DF.iloc[9::10, :]['Hero_ID']\n",
    "Hero_10 = Hero_10.values"
   ]
  },
  {
   "cell_type": "markdown",
   "metadata": {},
   "source": [
    "#### Shuffling the entire dataset to disrupt the order of matches according to time to prevent any bias."
   ]
  },
  {
   "cell_type": "markdown",
   "metadata": {},
   "source": [
    "#### As the dataset has recorded all matches between a duration of an hour and we need our model to have data for any time and not skewed towards the eary or later part of the hour."
   ]
  },
  {
   "cell_type": "code",
   "execution_count": 8,
   "metadata": {},
   "outputs": [],
   "source": [
    "Permutation = np.random.permutation(Hero_1.shape[0])\n",
    "Hero_1 = Hero_1[Permutation]\n",
    "Hero_2 = Hero_2[Permutation]\n",
    "Hero_3 = Hero_3[Permutation]\n",
    "Hero_4 = Hero_4[Permutation]\n",
    "Hero_5 = Hero_5[Permutation]\n",
    "Hero_6 = Hero_6[Permutation]\n",
    "Hero_7 = Hero_7[Permutation]\n",
    "Hero_8 = Hero_8[Permutation]\n",
    "Hero_9 = Hero_9[Permutation]\n",
    "Hero_10 = Hero_10[Permutation]\n",
    "Label_Data = Label_Data[Permutation]"
   ]
  },
  {
   "cell_type": "markdown",
   "metadata": {},
   "source": [
    "#### Training & Testing Data - Hero ID.\n"
   ]
  },
  {
   "cell_type": "markdown",
   "metadata": {},
   "source": [
    "#### Label = 1, means First 5 Heroes lineup won. Label = 0, means Last 5 Heroes lineup won."
   ]
  },
  {
   "cell_type": "code",
   "execution_count": 9,
   "metadata": {},
   "outputs": [
    {
     "name": "stdout",
     "output_type": "stream",
     "text": [
      "[110   6   6   4  44]\n",
      "[ 42  12 104   9  22]\n",
      "[0 1 0 0 0]\n",
      "[0 1 0 1 0]\n"
     ]
    }
   ],
   "source": [
    "Hero_1_Tr = Hero_1[0:40000]\n",
    "Hero_2_Tr = Hero_2[0:40000]\n",
    "Hero_3_Tr = Hero_3[0:40000]\n",
    "Hero_4_Tr = Hero_4[0:40000]\n",
    "Hero_5_Tr = Hero_5[0:40000]\n",
    "Hero_6_Tr = Hero_6[0:40000]\n",
    "Hero_7_Tr = Hero_7[0:40000]\n",
    "Hero_8_Tr = Hero_8[0:40000]\n",
    "Hero_9_Tr = Hero_9[0:40000]\n",
    "Hero_10_Tr = Hero_10[0:40000]\n",
    "Train_L = Label_Data[0:40000]\n",
    "\n",
    "Hero_1_Ts = Hero_1[40000:]\n",
    "Hero_2_Ts = Hero_2[40000:]\n",
    "Hero_3_Ts = Hero_3[40000:]\n",
    "Hero_4_Ts = Hero_4[40000:]\n",
    "Hero_5_Ts = Hero_5[40000:]\n",
    "Hero_6_Ts = Hero_6[40000:]\n",
    "Hero_7_Ts = Hero_7[40000:]\n",
    "Hero_8_Ts = Hero_8[40000:]\n",
    "Hero_9_Ts = Hero_9[40000:]\n",
    "Hero_10_Ts = Hero_10[40000:]\n",
    "Test_L = Label_Data[40000:]\n",
    "\n",
    "print(Hero_1_Tr[0:5])\n",
    "print(Hero_1_Ts[0:5])\n",
    "print(Train_L[0:5])\n",
    "print(Test_L[0:5])"
   ]
  },
  {
   "cell_type": "markdown",
   "metadata": {},
   "source": [
    "#### Structuring data for Team Model."
   ]
  },
  {
   "cell_type": "markdown",
   "metadata": {},
   "source": [
    "#### Import Data as Pandas Dataframe Object."
   ]
  },
  {
   "cell_type": "code",
   "execution_count": 10,
   "metadata": {},
   "outputs": [],
   "source": [
    "Dota_2_DF = pd.read_csv('Dota_2_Model_Data.csv')"
   ]
  },
  {
   "cell_type": "code",
   "execution_count": 11,
   "metadata": {},
   "outputs": [
    {
     "name": "stdout",
     "output_type": "stream",
     "text": [
      "(108800, 17)\n"
     ]
    }
   ],
   "source": [
    "print(Dota_2_DF.shape)"
   ]
  },
  {
   "cell_type": "markdown",
   "metadata": {},
   "source": [
    "#### Taking 50000 matches data and defining model variables and label."
   ]
  },
  {
   "cell_type": "code",
   "execution_count": 12,
   "metadata": {},
   "outputs": [],
   "source": [
    "Dota_2_DF = Dota_2_DF.head(100000)\n",
    "# Select Rows with Even Indices\n",
    "Team_1 = Dota_2_DF.iloc[::2]\n",
    "# Select Rows with Odd Indices\n",
    "Team_2 = Dota_2_DF.iloc[1::2]\n",
    "Label_Data = Team_1[['Win/Loss']]\n",
    "Label_Data = Label_Data.values\n",
    "Label_Data[Label_Data >= 1] = 1\n",
    "Team_1 = Team_1[['Hero_1', 'Hero_2', 'Hero_3', 'Hero_4', 'Hero_5']]\n",
    "Team_2 = Team_2[['Hero_1', 'Hero_2', 'Hero_3', 'Hero_4', 'Hero_5']]\n",
    "Team_1 = Team_1.values\n",
    "Team_2 = Team_2.values"
   ]
  },
  {
   "cell_type": "markdown",
   "metadata": {},
   "source": [
    "#### Shuffling the entire dataset to disrupt the order of matches according to time to prevent any bias."
   ]
  },
  {
   "cell_type": "markdown",
   "metadata": {},
   "source": [
    "#### As the dataset has recorded all matches between a duration of an hour and we need our model to have data for any time and not skewed towards the eary or later part of the hour."
   ]
  },
  {
   "cell_type": "code",
   "execution_count": 13,
   "metadata": {},
   "outputs": [],
   "source": [
    "Permutation = np.random.permutation(Team_1.shape[0])\n",
    "Team_1 = Team_1[Permutation]\n",
    "Team_2 = Team_2[Permutation]\n",
    "Label_Data = Label_Data[Permutation]"
   ]
  },
  {
   "cell_type": "markdown",
   "metadata": {},
   "source": [
    "#### Training & Testing Data - Hero ID."
   ]
  },
  {
   "cell_type": "markdown",
   "metadata": {},
   "source": [
    "#### Label = 1 Means Team 1 Won and Label = 0 Means Team 2 Won."
   ]
  },
  {
   "cell_type": "code",
   "execution_count": 14,
   "metadata": {},
   "outputs": [
    {
     "name": "stdout",
     "output_type": "stream",
     "text": [
      "[85 17 53 29 40]\n",
      "[104  35  20  49  90]\n",
      "[20 27 53 74 13]\n",
      "[ 21  75 119 118  14]\n",
      "[0]\n",
      "[1]\n"
     ]
    }
   ],
   "source": [
    "Training_Team_1 = Team_1[:40000]\n",
    "Training_Team_2 = Team_2[:40000]\n",
    "Train_L_T = Label_Data[:40000]\n",
    "\n",
    "Testing_Team_1 = Team_1[40000:]\n",
    "Testing_Team_2 = Team_2[40000:]\n",
    "Test_L_T = Label_Data[40000:]\n",
    "\n",
    "print(Training_Team_1[0])\n",
    "print(Training_Team_2[0])\n",
    "print(Testing_Team_1[0])\n",
    "print(Testing_Team_2[0])\n",
    "print(Train_L_T[0])\n",
    "print(Test_L_T[0])"
   ]
  },
  {
   "cell_type": "markdown",
   "metadata": {},
   "source": [
    "#### Hero Input Feed Forward Neural Network Model."
   ]
  },
  {
   "cell_type": "code",
   "execution_count": 15,
   "metadata": {},
   "outputs": [
    {
     "name": "stdout",
     "output_type": "stream",
     "text": [
      "__________________________________________________________________________________________________\n",
      "Layer (type)                    Output Shape         Param #     Connected to                     \n",
      "==================================================================================================\n",
      "input_1 (InputLayer)            (None, 1)            0                                            \n",
      "__________________________________________________________________________________________________\n",
      "input_2 (InputLayer)            (None, 1)            0                                            \n",
      "__________________________________________________________________________________________________\n",
      "input_3 (InputLayer)            (None, 1)            0                                            \n",
      "__________________________________________________________________________________________________\n",
      "input_4 (InputLayer)            (None, 1)            0                                            \n",
      "__________________________________________________________________________________________________\n",
      "input_5 (InputLayer)            (None, 1)            0                                            \n",
      "__________________________________________________________________________________________________\n",
      "input_6 (InputLayer)            (None, 1)            0                                            \n",
      "__________________________________________________________________________________________________\n",
      "input_7 (InputLayer)            (None, 1)            0                                            \n",
      "__________________________________________________________________________________________________\n",
      "input_8 (InputLayer)            (None, 1)            0                                            \n",
      "__________________________________________________________________________________________________\n",
      "input_9 (InputLayer)            (None, 1)            0                                            \n",
      "__________________________________________________________________________________________________\n",
      "input_10 (InputLayer)           (None, 1)            0                                            \n",
      "__________________________________________________________________________________________________\n",
      "dense_1 (Dense)                 (None, 16)           32          input_1[0][0]                    \n",
      "__________________________________________________________________________________________________\n",
      "dense_2 (Dense)                 (None, 16)           32          input_2[0][0]                    \n",
      "__________________________________________________________________________________________________\n",
      "dense_3 (Dense)                 (None, 16)           32          input_3[0][0]                    \n",
      "__________________________________________________________________________________________________\n",
      "dense_4 (Dense)                 (None, 16)           32          input_4[0][0]                    \n",
      "__________________________________________________________________________________________________\n",
      "dense_5 (Dense)                 (None, 16)           32          input_5[0][0]                    \n",
      "__________________________________________________________________________________________________\n",
      "dense_6 (Dense)                 (None, 16)           32          input_6[0][0]                    \n",
      "__________________________________________________________________________________________________\n",
      "dense_7 (Dense)                 (None, 16)           32          input_7[0][0]                    \n",
      "__________________________________________________________________________________________________\n",
      "dense_8 (Dense)                 (None, 16)           32          input_8[0][0]                    \n",
      "__________________________________________________________________________________________________\n",
      "dense_9 (Dense)                 (None, 16)           32          input_9[0][0]                    \n",
      "__________________________________________________________________________________________________\n",
      "dense_10 (Dense)                (None, 16)           32          input_10[0][0]                   \n",
      "__________________________________________________________________________________________________\n",
      "add_1 (Add)                     (None, 16)           0           dense_1[0][0]                    \n",
      "                                                                 dense_2[0][0]                    \n",
      "                                                                 dense_3[0][0]                    \n",
      "                                                                 dense_4[0][0]                    \n",
      "                                                                 dense_5[0][0]                    \n",
      "__________________________________________________________________________________________________\n",
      "add_2 (Add)                     (None, 16)           0           dense_6[0][0]                    \n",
      "                                                                 dense_7[0][0]                    \n",
      "                                                                 dense_8[0][0]                    \n",
      "                                                                 dense_9[0][0]                    \n",
      "                                                                 dense_10[0][0]                   \n",
      "__________________________________________________________________________________________________\n",
      "add_3 (Add)                     (None, 16)           0           add_1[0][0]                      \n",
      "                                                                 add_2[0][0]                      \n",
      "__________________________________________________________________________________________________\n",
      "dense_11 (Dense)                (None, 16)           272         add_3[0][0]                      \n",
      "__________________________________________________________________________________________________\n",
      "dense_12 (Dense)                (None, 1)            17          dense_11[0][0]                   \n",
      "==================================================================================================\n",
      "Total params: 609\n",
      "Trainable params: 609\n",
      "Non-trainable params: 0\n",
      "__________________________________________________________________________________________________\n"
     ]
    }
   ],
   "source": [
    "Model_T, Batch_Size = ffnn_hero_model()\n",
    "Model_T.summary()"
   ]
  },
  {
   "cell_type": "code",
   "execution_count": 16,
   "metadata": {},
   "outputs": [
    {
     "data": {
      "text/plain": [
       "256"
      ]
     },
     "execution_count": 16,
     "metadata": {},
     "output_type": "execute_result"
    }
   ],
   "source": [
    "Batch_Size"
   ]
  },
  {
   "cell_type": "markdown",
   "metadata": {},
   "source": [
    "#### Training the Model."
   ]
  },
  {
   "cell_type": "code",
   "execution_count": 17,
   "metadata": {},
   "outputs": [
    {
     "name": "stdout",
     "output_type": "stream",
     "text": [
      "Train on 40000 samples, validate on 10000 samples\n",
      "Epoch 1/5\n",
      "40000/40000 [==============================] - 1s 30us/step - loss: 0.6938 - acc: 0.5199 - val_loss: 0.6927 - val_acc: 0.5203\n",
      "Epoch 2/5\n",
      "40000/40000 [==============================] - 0s 9us/step - loss: 0.6914 - acc: 0.5263 - val_loss: 0.6925 - val_acc: 0.5205\n",
      "Epoch 3/5\n",
      "40000/40000 [==============================] - 0s 10us/step - loss: 0.6912 - acc: 0.5284 - val_loss: 0.6920 - val_acc: 0.5201\n",
      "Epoch 4/5\n",
      "40000/40000 [==============================] - 0s 9us/step - loss: 0.6909 - acc: 0.5308 - val_loss: 0.6916 - val_acc: 0.5248\n",
      "Epoch 5/5\n",
      "40000/40000 [==============================] - 0s 9us/step - loss: 0.6906 - acc: 0.5313 - val_loss: 0.6919 - val_acc: 0.5211\n"
     ]
    }
   ],
   "source": [
    "Model_History = Model_T.fit([Hero_1_Tr, Hero_2_Tr, Hero_3_Tr, Hero_4_Tr, Hero_5_Tr, Hero_6_Tr, Hero_7_Tr, Hero_8_Tr, Hero_9_Tr, Hero_10_Tr], Train_L, epochs=5, verbose = 1, batch_size= Batch_Size, validation_data =([Hero_1_Ts, Hero_2_Ts, Hero_3_Ts, Hero_4_Ts, Hero_5_Ts, Hero_6_Ts, Hero_7_Ts, Hero_8_Ts, Hero_9_Ts, Hero_10_Ts], Test_L))"
   ]
  },
  {
   "cell_type": "markdown",
   "metadata": {},
   "source": [
    "#### Plotting accuracy of the model."
   ]
  },
  {
   "cell_type": "code",
   "execution_count": 18,
   "metadata": {},
   "outputs": [
    {
     "data": {
      "image/png": "[encoded data removed]",
      "text/plain": [
       "<Figure size 432x288 with 1 Axes>"
      ]
     },
     "metadata": {},
     "output_type": "display_data"
    }
   ],
   "source": [
    "plt.rc('lines', linewidth=1)\n",
    "plt.rc('axes', prop_cycle=(cycler(color=['blue', 'orange']) +\n",
    "                           cycler(linestyle=['-', '--'])))\n",
    "y1 = Model_History.history['acc']\n",
    "y2 = Model_History.history['val_acc']\n",
    "x = np.array([1,2,3,4,5])\n",
    "plt.xlabel('Epoch')\n",
    "plt.ylabel('Accuracy')\n",
    "plt.plot(x, y1, label='Training Data')\n",
    "plt.plot(x, y2, label='Testing Data')\n",
    "plt.title('FFNN Hero Model')\n",
    "plt.legend()\n",
    "plt.savefig('Hero_FFNN_Model.png')\n",
    "plt.show()"
   ]
  },
  {
   "cell_type": "markdown",
   "metadata": {},
   "source": [
    "#### Team Input Feed Forward Network Model."
   ]
  },
  {
   "cell_type": "code",
   "execution_count": 19,
   "metadata": {},
   "outputs": [
    {
     "name": "stdout",
     "output_type": "stream",
     "text": [
      "__________________________________________________________________________________________________\n",
      "Layer (type)                    Output Shape         Param #     Connected to                     \n",
      "==================================================================================================\n",
      "input_11 (InputLayer)           (None, 5)            0                                            \n",
      "__________________________________________________________________________________________________\n",
      "input_12 (InputLayer)           (None, 5)            0                                            \n",
      "__________________________________________________________________________________________________\n",
      "dense_13 (Dense)                (None, 64)           384         input_11[0][0]                   \n",
      "__________________________________________________________________________________________________\n",
      "dense_14 (Dense)                (None, 64)           384         input_12[0][0]                   \n",
      "__________________________________________________________________________________________________\n",
      "add_4 (Add)                     (None, 64)           0           dense_13[0][0]                   \n",
      "                                                                 dense_14[0][0]                   \n",
      "__________________________________________________________________________________________________\n",
      "dense_15 (Dense)                (None, 32)           2080        add_4[0][0]                      \n",
      "__________________________________________________________________________________________________\n",
      "dense_16 (Dense)                (None, 1)            33          dense_15[0][0]                   \n",
      "==================================================================================================\n",
      "Total params: 2,881\n",
      "Trainable params: 2,881\n",
      "Non-trainable params: 0\n",
      "__________________________________________________________________________________________________\n"
     ]
    }
   ],
   "source": [
    "Model_T, Batch_Size = ffnn_team_model()\n",
    "Model_T.summary()"
   ]
  },
  {
   "cell_type": "code",
   "execution_count": 20,
   "metadata": {},
   "outputs": [
    {
     "data": {
      "text/plain": [
       "128"
      ]
     },
     "execution_count": 20,
     "metadata": {},
     "output_type": "execute_result"
    }
   ],
   "source": [
    "Batch_Size"
   ]
  },
  {
   "cell_type": "markdown",
   "metadata": {},
   "source": [
    "#### Training the Model."
   ]
  },
  {
   "cell_type": "code",
   "execution_count": 21,
   "metadata": {},
   "outputs": [
    {
     "name": "stdout",
     "output_type": "stream",
     "text": [
      "Train on 40000 samples, validate on 10000 samples\n",
      "Epoch 1/5\n",
      "40000/40000 [==============================] - 1s 24us/step - loss: 0.6964 - acc: 0.5151 - val_loss: 0.6940 - val_acc: 0.5202\n",
      "Epoch 2/5\n",
      "40000/40000 [==============================] - 0s 12us/step - loss: 0.6924 - acc: 0.5242 - val_loss: 0.6913 - val_acc: 0.5235\n",
      "Epoch 3/5\n",
      "40000/40000 [==============================] - 0s 12us/step - loss: 0.6918 - acc: 0.5257 - val_loss: 0.6925 - val_acc: 0.5120\n",
      "Epoch 4/5\n",
      "40000/40000 [==============================] - 0s 12us/step - loss: 0.6918 - acc: 0.5229 - val_loss: 0.6907 - val_acc: 0.5305\n",
      "Epoch 5/5\n",
      "40000/40000 [==============================] - 0s 12us/step - loss: 0.6920 - acc: 0.5215 - val_loss: 0.6907 - val_acc: 0.5332\n"
     ]
    }
   ],
   "source": [
    "Model_History = Model_T.fit([Training_Team_1, Training_Team_2], Train_L_T, epochs=5, verbose = 1, batch_size= Batch_Size, validation_data =([Testing_Team_1, Testing_Team_2], Test_L_T))"
   ]
  },
  {
   "cell_type": "markdown",
   "metadata": {},
   "source": [
    "#### Plotting accuracy of the model. "
   ]
  },
  {
   "cell_type": "code",
   "execution_count": 22,
   "metadata": {},
   "outputs": [
    {
     "data": {
      "image/png": "[encoded data removed]",
      "text/plain": [
       "<Figure size 432x288 with 1 Axes>"
      ]
     },
     "metadata": {},
     "output_type": "display_data"
    }
   ],
   "source": [
    "plt.rc('lines', linewidth=1)\n",
    "plt.rc('axes', prop_cycle=(cycler(color=['blue', 'orange']) +\n",
    "                           cycler(linestyle=['-', '--'])))\n",
    "y1 = Model_History.history['acc']\n",
    "y2 = Model_History.history['val_acc']\n",
    "x = np.array([1,2,3,4,5])\n",
    "plt.xlabel('Epoch')\n",
    "plt.ylabel('Accuracy')\n",
    "plt.plot(x, y1, label='Training Data')\n",
    "plt.plot(x, y2, label='Testing Data')\n",
    "plt.title('FFNN Team Model')\n",
    "plt.legend()\n",
    "plt.savefig('Team_FFNN_Model.png')\n",
    "plt.show()"
   ]
  },
  {
   "cell_type": "markdown",
   "metadata": {},
   "source": [
    "#### Hero Input Long/Short Term Memory Model."
   ]
  },
  {
   "cell_type": "code",
   "execution_count": 23,
   "metadata": {},
   "outputs": [
    {
     "name": "stdout",
     "output_type": "stream",
     "text": [
      "__________________________________________________________________________________________________\n",
      "Layer (type)                    Output Shape         Param #     Connected to                     \n",
      "==================================================================================================\n",
      "hero_1 (InputLayer)             (None, 1)            0                                            \n",
      "__________________________________________________________________________________________________\n",
      "hero_2 (InputLayer)             (None, 1)            0                                            \n",
      "__________________________________________________________________________________________________\n",
      "hero_3 (InputLayer)             (None, 1)            0                                            \n",
      "__________________________________________________________________________________________________\n",
      "hero_4 (InputLayer)             (None, 1)            0                                            \n",
      "__________________________________________________________________________________________________\n",
      "hero_5 (InputLayer)             (None, 1)            0                                            \n",
      "__________________________________________________________________________________________________\n",
      "hero_6 (InputLayer)             (None, 1)            0                                            \n",
      "__________________________________________________________________________________________________\n",
      "hero_7 (InputLayer)             (None, 1)            0                                            \n",
      "__________________________________________________________________________________________________\n",
      "hero_8 (InputLayer)             (None, 1)            0                                            \n",
      "__________________________________________________________________________________________________\n",
      "hero_9 (InputLayer)             (None, 1)            0                                            \n",
      "__________________________________________________________________________________________________\n",
      "hero_10 (InputLayer)            (None, 1)            0                                            \n",
      "__________________________________________________________________________________________________\n",
      "embedding_1 (Embedding)         (None, 1, 16)        2000        hero_1[0][0]                     \n",
      "                                                                 hero_2[0][0]                     \n",
      "                                                                 hero_3[0][0]                     \n",
      "                                                                 hero_4[0][0]                     \n",
      "                                                                 hero_5[0][0]                     \n",
      "                                                                 hero_6[0][0]                     \n",
      "                                                                 hero_7[0][0]                     \n",
      "                                                                 hero_8[0][0]                     \n",
      "                                                                 hero_9[0][0]                     \n",
      "                                                                 hero_10[0][0]                    \n",
      "__________________________________________________________________________________________________\n",
      "lstm_1 (LSTM)                   (None, 16)           2112        embedding_1[0][0]                \n",
      "                                                                 embedding_1[1][0]                \n",
      "                                                                 embedding_1[2][0]                \n",
      "                                                                 embedding_1[3][0]                \n",
      "                                                                 embedding_1[4][0]                \n",
      "                                                                 embedding_1[5][0]                \n",
      "                                                                 embedding_1[6][0]                \n",
      "                                                                 embedding_1[7][0]                \n",
      "                                                                 embedding_1[8][0]                \n",
      "                                                                 embedding_1[9][0]                \n",
      "__________________________________________________________________________________________________\n",
      "add_5 (Add)                     (None, 16)           0           lstm_1[0][0]                     \n",
      "                                                                 lstm_1[1][0]                     \n",
      "                                                                 lstm_1[2][0]                     \n",
      "                                                                 lstm_1[3][0]                     \n",
      "                                                                 lstm_1[4][0]                     \n",
      "__________________________________________________________________________________________________\n",
      "add_6 (Add)                     (None, 16)           0           lstm_1[5][0]                     \n",
      "                                                                 lstm_1[6][0]                     \n",
      "                                                                 lstm_1[7][0]                     \n",
      "                                                                 lstm_1[8][0]                     \n",
      "                                                                 lstm_1[9][0]                     \n",
      "__________________________________________________________________________________________________\n",
      "add_7 (Add)                     (None, 16)           0           add_5[0][0]                      \n",
      "                                                                 add_6[0][0]                      \n",
      "__________________________________________________________________________________________________\n",
      "dense_17 (Dense)                (None, 16)           272         add_7[0][0]                      \n",
      "__________________________________________________________________________________________________\n",
      "dense_18 (Dense)                (None, 1)            17          dense_17[0][0]                   \n",
      "==================================================================================================\n",
      "Total params: 4,401\n",
      "Trainable params: 4,401\n",
      "Non-trainable params: 0\n",
      "__________________________________________________________________________________________________\n"
     ]
    }
   ],
   "source": [
    "Model_T, Batch_Size = lstm_hero_model()\n",
    "Model_T.summary()"
   ]
  },
  {
   "cell_type": "code",
   "execution_count": 24,
   "metadata": {},
   "outputs": [
    {
     "data": {
      "text/plain": [
       "256"
      ]
     },
     "execution_count": 24,
     "metadata": {},
     "output_type": "execute_result"
    }
   ],
   "source": [
    "Batch_Size"
   ]
  },
  {
   "cell_type": "markdown",
   "metadata": {},
   "source": [
    "#### Training the Model."
   ]
  },
  {
   "cell_type": "code",
   "execution_count": 25,
   "metadata": {},
   "outputs": [
    {
     "name": "stdout",
     "output_type": "stream",
     "text": [
      "Train on 40000 samples, validate on 10000 samples\n",
      "Epoch 1/5\n",
      "40000/40000 [==============================] - 9s 231us/step - loss: 0.6919 - acc: 0.5260 - val_loss: 0.6927 - val_acc: 0.5174\n",
      "Epoch 2/5\n",
      "40000/40000 [==============================] - 2s 51us/step - loss: 0.6915 - acc: 0.5278 - val_loss: 0.6926 - val_acc: 0.5173\n",
      "Epoch 3/5\n",
      "40000/40000 [==============================] - 2s 50us/step - loss: 0.6913 - acc: 0.5282 - val_loss: 0.6928 - val_acc: 0.5174\n",
      "Epoch 4/5\n",
      "40000/40000 [==============================] - 2s 50us/step - loss: 0.6910 - acc: 0.5295 - val_loss: 0.6929 - val_acc: 0.5143\n",
      "Epoch 5/5\n",
      "40000/40000 [==============================] - 2s 50us/step - loss: 0.6909 - acc: 0.5291 - val_loss: 0.6928 - val_acc: 0.5157\n"
     ]
    }
   ],
   "source": [
    "Model_History = Model_T.fit([Hero_1_Tr, Hero_2_Tr, Hero_3_Tr, Hero_4_Tr, Hero_5_Tr, Hero_6_Tr, Hero_7_Tr, Hero_8_Tr, Hero_9_Tr, Hero_10_Tr], Train_L, epochs=5, verbose = 1, batch_size= Batch_Size, validation_data =([Hero_1_Ts, Hero_2_Ts, Hero_3_Ts, Hero_4_Ts, Hero_5_Ts, Hero_6_Ts, Hero_7_Ts, Hero_8_Ts, Hero_9_Ts, Hero_10_Ts], Test_L))"
   ]
  },
  {
   "cell_type": "markdown",
   "metadata": {},
   "source": [
    "#### Plotting accuracy of the model."
   ]
  },
  {
   "cell_type": "code",
   "execution_count": 26,
   "metadata": {},
   "outputs": [
    {
     "data": {
      "image/png": "[encoded data removed]",
      "text/plain": [
       "<Figure size 432x288 with 1 Axes>"
      ]
     },
     "metadata": {},
     "output_type": "display_data"
    }
   ],
   "source": [
    "plt.rc('lines', linewidth=1)\n",
    "plt.rc('axes', prop_cycle=(cycler(color=['blue', 'orange']) +\n",
    "                           cycler(linestyle=['-', '--'])))\n",
    "y1 = Model_History.history['acc']\n",
    "y2 = Model_History.history['val_acc']\n",
    "x = np.array([1,2,3,4,5])\n",
    "plt.xlabel('Epoch')\n",
    "plt.ylabel('Accuracy')\n",
    "plt.plot(x, y1, label='Training Data')\n",
    "plt.plot(x, y2, label='Testing Data')\n",
    "plt.title('LSTM Hero Model')\n",
    "plt.legend()\n",
    "plt.savefig('Hero_LSTM_Model.png')\n",
    "plt.show()"
   ]
  },
  {
   "cell_type": "markdown",
   "metadata": {},
   "source": [
    "#### Team Input Long/Short Term Memory Model."
   ]
  },
  {
   "cell_type": "code",
   "execution_count": 27,
   "metadata": {},
   "outputs": [
    {
     "name": "stdout",
     "output_type": "stream",
     "text": [
      "__________________________________________________________________________________________________\n",
      "Layer (type)                    Output Shape         Param #     Connected to                     \n",
      "==================================================================================================\n",
      "Team_1 (InputLayer)             (None, 5)            0                                            \n",
      "__________________________________________________________________________________________________\n",
      "Team_2 (InputLayer)             (None, 5)            0                                            \n",
      "__________________________________________________________________________________________________\n",
      "embedding_2 (Embedding)         (None, 5, 32)        4000        Team_1[0][0]                     \n",
      "                                                                 Team_2[0][0]                     \n",
      "__________________________________________________________________________________________________\n",
      "lstm_2 (LSTM)                   (None, 32)           8320        embedding_2[0][0]                \n",
      "                                                                 embedding_2[1][0]                \n",
      "__________________________________________________________________________________________________\n",
      "add_8 (Add)                     (None, 32)           0           lstm_2[0][0]                     \n",
      "                                                                 lstm_2[1][0]                     \n",
      "__________________________________________________________________________________________________\n",
      "dense_19 (Dense)                (None, 32)           1056        add_8[0][0]                      \n",
      "__________________________________________________________________________________________________\n",
      "dense_20 (Dense)                (None, 1)            33          dense_19[0][0]                   \n",
      "==================================================================================================\n",
      "Total params: 13,409\n",
      "Trainable params: 13,409\n",
      "Non-trainable params: 0\n",
      "__________________________________________________________________________________________________\n"
     ]
    }
   ],
   "source": [
    "Model_T, Batch_Size = lstm_team_model()\n",
    "Model_T.summary()"
   ]
  },
  {
   "cell_type": "code",
   "execution_count": 28,
   "metadata": {},
   "outputs": [
    {
     "data": {
      "text/plain": [
       "128"
      ]
     },
     "execution_count": 28,
     "metadata": {},
     "output_type": "execute_result"
    }
   ],
   "source": [
    "Batch_Size"
   ]
  },
  {
   "cell_type": "markdown",
   "metadata": {},
   "source": [
    "#### Training the Model."
   ]
  },
  {
   "cell_type": "code",
   "execution_count": 29,
   "metadata": {},
   "outputs": [
    {
     "name": "stdout",
     "output_type": "stream",
     "text": [
      "Train on 40000 samples, validate on 10000 samples\n",
      "Epoch 1/5\n",
      "40000/40000 [==============================] - 6s 142us/step - loss: 0.6922 - acc: 0.5232 - val_loss: 0.6912 - val_acc: 0.5329\n",
      "Epoch 2/5\n",
      "40000/40000 [==============================] - 3s 83us/step - loss: 0.6917 - acc: 0.5232 - val_loss: 0.6924 - val_acc: 0.5255\n",
      "Epoch 3/5\n",
      "40000/40000 [==============================] - 3s 81us/step - loss: 0.6913 - acc: 0.5266 - val_loss: 0.6931 - val_acc: 0.5135\n",
      "Epoch 4/5\n",
      "40000/40000 [==============================] - 3s 83us/step - loss: 0.6908 - acc: 0.5283 - val_loss: 0.6925 - val_acc: 0.5290\n",
      "Epoch 5/5\n",
      "40000/40000 [==============================] - 3s 85us/step - loss: 0.6905 - acc: 0.5286 - val_loss: 0.6940 - val_acc: 0.5129\n"
     ]
    }
   ],
   "source": [
    "Model_History = Model_T.fit([Training_Team_1, Training_Team_2], Train_L_T, epochs=5, verbose = 1, batch_size= Batch_Size, validation_data =([Testing_Team_1, Testing_Team_2], Test_L_T))"
   ]
  },
  {
   "cell_type": "markdown",
   "metadata": {},
   "source": [
    "#### Plotting accuracy of the model."
   ]
  },
  {
   "cell_type": "code",
   "execution_count": 30,
   "metadata": {},
   "outputs": [
    {
     "data": {
      "image/png": "[encoded data removed]",
      "text/plain": [
       "<Figure size 432x288 with 1 Axes>"
      ]
     },
     "metadata": {},
     "output_type": "display_data"
    }
   ],
   "source": [
    "plt.rc('lines', linewidth=1)\n",
    "plt.rc('axes', prop_cycle=(cycler(color=['blue', 'orange']) +\n",
    "                           cycler(linestyle=['-', '--'])))\n",
    "y1 = Model_History.history['acc']\n",
    "y2 = Model_History.history['val_acc']\n",
    "x = np.array([1,2,3,4,5])\n",
    "plt.xlabel('Epoch')\n",
    "plt.ylabel('Accuracy')\n",
    "plt.plot(x, y1, label='Training Data')\n",
    "plt.plot(x, y2, label='Testing Data')\n",
    "plt.title('LSTM Team Model')\n",
    "plt.legend()\n",
    "plt.savefig('Team_LSTM_Model.png')\n",
    "plt.show()"
   ]
  },
  {
   "cell_type": "markdown",
   "metadata": {},
   "source": [
    "#### Hero Input Long/Short Term Memory & Feed Forward Neural Network Model."
   ]
  },
  {
   "cell_type": "code",
   "execution_count": 31,
   "metadata": {},
   "outputs": [
    {
     "name": "stdout",
     "output_type": "stream",
     "text": [
      "__________________________________________________________________________________________________\n",
      "Layer (type)                    Output Shape         Param #     Connected to                     \n",
      "==================================================================================================\n",
      "hero_1 (InputLayer)             (None, 1)            0                                            \n",
      "__________________________________________________________________________________________________\n",
      "hero_2 (InputLayer)             (None, 1)            0                                            \n",
      "__________________________________________________________________________________________________\n",
      "hero_3 (InputLayer)             (None, 1)            0                                            \n",
      "__________________________________________________________________________________________________\n",
      "hero_4 (InputLayer)             (None, 1)            0                                            \n",
      "__________________________________________________________________________________________________\n",
      "hero_5 (InputLayer)             (None, 1)            0                                            \n",
      "__________________________________________________________________________________________________\n",
      "hero_6 (InputLayer)             (None, 1)            0                                            \n",
      "__________________________________________________________________________________________________\n",
      "hero_7 (InputLayer)             (None, 1)            0                                            \n",
      "__________________________________________________________________________________________________\n",
      "hero_8 (InputLayer)             (None, 1)            0                                            \n",
      "__________________________________________________________________________________________________\n",
      "hero_9 (InputLayer)             (None, 1)            0                                            \n",
      "__________________________________________________________________________________________________\n",
      "hero_10 (InputLayer)            (None, 1)            0                                            \n",
      "__________________________________________________________________________________________________\n",
      "embedding_3 (Embedding)         (None, 1, 16)        2000        hero_1[0][0]                     \n",
      "                                                                 hero_2[0][0]                     \n",
      "                                                                 hero_3[0][0]                     \n",
      "                                                                 hero_4[0][0]                     \n",
      "                                                                 hero_5[0][0]                     \n",
      "                                                                 hero_6[0][0]                     \n",
      "                                                                 hero_7[0][0]                     \n",
      "                                                                 hero_8[0][0]                     \n",
      "                                                                 hero_9[0][0]                     \n",
      "                                                                 hero_10[0][0]                    \n",
      "__________________________________________________________________________________________________\n",
      "lstm_3 (LSTM)                   (None, 16)           2112        embedding_3[0][0]                \n",
      "                                                                 embedding_3[1][0]                \n",
      "                                                                 embedding_3[2][0]                \n",
      "                                                                 embedding_3[3][0]                \n",
      "                                                                 embedding_3[4][0]                \n",
      "                                                                 embedding_3[5][0]                \n",
      "                                                                 embedding_3[6][0]                \n",
      "                                                                 embedding_3[7][0]                \n",
      "                                                                 embedding_3[8][0]                \n",
      "                                                                 embedding_3[9][0]                \n",
      "__________________________________________________________________________________________________\n",
      "add_9 (Add)                     (None, 16)           0           lstm_3[0][0]                     \n",
      "                                                                 lstm_3[1][0]                     \n",
      "                                                                 lstm_3[2][0]                     \n",
      "                                                                 lstm_3[3][0]                     \n",
      "                                                                 lstm_3[4][0]                     \n",
      "__________________________________________________________________________________________________\n",
      "add_10 (Add)                    (None, 16)           0           lstm_3[5][0]                     \n",
      "                                                                 lstm_3[6][0]                     \n",
      "                                                                 lstm_3[7][0]                     \n",
      "                                                                 lstm_3[8][0]                     \n",
      "                                                                 lstm_3[9][0]                     \n",
      "__________________________________________________________________________________________________\n",
      "dense_21 (Dense)                (None, 32)           544         add_9[0][0]                      \n",
      "__________________________________________________________________________________________________\n",
      "dense_22 (Dense)                (None, 32)           544         add_10[0][0]                     \n",
      "__________________________________________________________________________________________________\n",
      "add_11 (Add)                    (None, 32)           0           dense_21[0][0]                   \n",
      "                                                                 dense_22[0][0]                   \n",
      "__________________________________________________________________________________________________\n",
      "dense_23 (Dense)                (None, 16)           528         add_11[0][0]                     \n",
      "__________________________________________________________________________________________________\n",
      "dense_24 (Dense)                (None, 1)            17          dense_23[0][0]                   \n",
      "==================================================================================================\n",
      "Total params: 5,745\n",
      "Trainable params: 5,745\n",
      "Non-trainable params: 0\n",
      "__________________________________________________________________________________________________\n"
     ]
    }
   ],
   "source": [
    "Model_T, Batch_Size = lstm_ffnn_hero_model()\n",
    "Model_T.summary()"
   ]
  },
  {
   "cell_type": "code",
   "execution_count": 32,
   "metadata": {},
   "outputs": [
    {
     "data": {
      "text/plain": [
       "64"
      ]
     },
     "execution_count": 32,
     "metadata": {},
     "output_type": "execute_result"
    }
   ],
   "source": [
    "Batch_Size"
   ]
  },
  {
   "cell_type": "markdown",
   "metadata": {},
   "source": [
    "#### Training the Model."
   ]
  },
  {
   "cell_type": "code",
   "execution_count": 33,
   "metadata": {},
   "outputs": [
    {
     "name": "stdout",
     "output_type": "stream",
     "text": [
      "Train on 40000 samples, validate on 10000 samples\n",
      "Epoch 1/5\n",
      "40000/40000 [==============================] - 16s 408us/step - loss: 0.6713 - acc: 0.5805 - val_loss: 0.6683 - val_acc: 0.5968\n",
      "Epoch 2/5\n",
      "40000/40000 [==============================] - 7s 176us/step - loss: 0.6657 - acc: 0.5940 - val_loss: 0.6696 - val_acc: 0.5848\n",
      "Epoch 3/5\n",
      "40000/40000 [==============================] - 7s 177us/step - loss: 0.6652 - acc: 0.5944 - val_loss: 0.6667 - val_acc: 0.5951\n",
      "Epoch 4/5\n",
      "40000/40000 [==============================] - 7s 174us/step - loss: 0.6649 - acc: 0.5967 - val_loss: 0.6679 - val_acc: 0.5873\n",
      "Epoch 5/5\n",
      "40000/40000 [==============================] - 7s 167us/step - loss: 0.6646 - acc: 0.5971 - val_loss: 0.6677 - val_acc: 0.5929\n"
     ]
    }
   ],
   "source": [
    "Model_History = Model_T.fit([Hero_1_Tr, Hero_2_Tr, Hero_3_Tr, Hero_4_Tr, Hero_5_Tr, Hero_6_Tr, Hero_7_Tr, Hero_8_Tr, Hero_9_Tr, Hero_10_Tr], Train_L, epochs=5, verbose = 1, batch_size= Batch_Size, validation_data =([Hero_1_Ts, Hero_2_Ts, Hero_3_Ts, Hero_4_Ts, Hero_5_Ts, Hero_6_Ts, Hero_7_Ts, Hero_8_Ts, Hero_9_Ts, Hero_10_Ts], Test_L))"
   ]
  },
  {
   "cell_type": "markdown",
   "metadata": {},
   "source": [
    "#### Plotting accuracy of the model."
   ]
  },
  {
   "cell_type": "code",
   "execution_count": 34,
   "metadata": {},
   "outputs": [
    {
     "data": {
      "image/png": "[encoded data removed]",
      "text/plain": [
       "<Figure size 432x288 with 1 Axes>"
      ]
     },
     "metadata": {},
     "output_type": "display_data"
    }
   ],
   "source": [
    "plt.rc('lines', linewidth=1)\n",
    "plt.rc('axes', prop_cycle=(cycler(color=['blue', 'orange']) +\n",
    "                           cycler(linestyle=['-', '--'])))\n",
    "y1 = Model_History.history['acc']\n",
    "y2 = Model_History.history['val_acc']\n",
    "x = np.array([1,2,3,4,5])\n",
    "plt.xlabel('Epoch')\n",
    "plt.ylabel('Accuracy')\n",
    "plt.plot(x, y1, label='Training Data')\n",
    "plt.plot(x, y2, label='Testing Data')\n",
    "plt.title('LSTM FFNN Hero Model')\n",
    "plt.legend()\n",
    "plt.savefig('Hero_LSTM_FFNN_Model.png')\n",
    "plt.show()"
   ]
  },
  {
   "cell_type": "markdown",
   "metadata": {},
   "source": [
    "#### Team Input Long/Short Term Memory & Feed Forward Neural Network Model.\n"
   ]
  },
  {
   "cell_type": "code",
   "execution_count": 35,
   "metadata": {},
   "outputs": [
    {
     "name": "stdout",
     "output_type": "stream",
     "text": [
      "__________________________________________________________________________________________________\n",
      "Layer (type)                    Output Shape         Param #     Connected to                     \n",
      "==================================================================================================\n",
      "Team_1 (InputLayer)             (None, 5)            0                                            \n",
      "__________________________________________________________________________________________________\n",
      "Team_2 (InputLayer)             (None, 5)            0                                            \n",
      "__________________________________________________________________________________________________\n",
      "embedding_4 (Embedding)         (None, 5, 32)        4000        Team_1[0][0]                     \n",
      "                                                                 Team_2[0][0]                     \n",
      "__________________________________________________________________________________________________\n",
      "lstm_4 (LSTM)                   (None, 32)           8320        embedding_4[0][0]                \n",
      "                                                                 embedding_4[1][0]                \n",
      "__________________________________________________________________________________________________\n",
      "dense_25 (Dense)                (None, 32)           1056        lstm_4[0][0]                     \n",
      "__________________________________________________________________________________________________\n",
      "dense_26 (Dense)                (None, 32)           1056        lstm_4[1][0]                     \n",
      "__________________________________________________________________________________________________\n",
      "add_12 (Add)                    (None, 32)           0           dense_25[0][0]                   \n",
      "                                                                 dense_26[0][0]                   \n",
      "__________________________________________________________________________________________________\n",
      "dense_27 (Dense)                (None, 32)           1056        add_12[0][0]                     \n",
      "__________________________________________________________________________________________________\n",
      "dense_28 (Dense)                (None, 1)            33          dense_27[0][0]                   \n",
      "==================================================================================================\n",
      "Total params: 15,521\n",
      "Trainable params: 15,521\n",
      "Non-trainable params: 0\n",
      "__________________________________________________________________________________________________\n"
     ]
    }
   ],
   "source": [
    "Model_T, Batch_Size = lstm_ffnn_team_model()\n",
    "Model_T.summary()"
   ]
  },
  {
   "cell_type": "code",
   "execution_count": 36,
   "metadata": {},
   "outputs": [
    {
     "data": {
      "text/plain": [
       "64"
      ]
     },
     "execution_count": 36,
     "metadata": {},
     "output_type": "execute_result"
    }
   ],
   "source": [
    "Batch_Size"
   ]
  },
  {
   "cell_type": "markdown",
   "metadata": {},
   "source": [
    "#### Training the Model."
   ]
  },
  {
   "cell_type": "code",
   "execution_count": 37,
   "metadata": {},
   "outputs": [
    {
     "name": "stdout",
     "output_type": "stream",
     "text": [
      "Train on 40000 samples, validate on 10000 samples\n",
      "Epoch 1/5\n",
      "40000/40000 [==============================] - 9s 236us/step - loss: 0.6727 - acc: 0.5799 - val_loss: 0.6671 - val_acc: 0.5913\n",
      "Epoch 2/5\n",
      "40000/40000 [==============================] - 5s 136us/step - loss: 0.6659 - acc: 0.5931 - val_loss: 0.6676 - val_acc: 0.5923\n",
      "Epoch 3/5\n",
      "40000/40000 [==============================] - 6s 151us/step - loss: 0.6650 - acc: 0.5965 - val_loss: 0.6695 - val_acc: 0.5931\n",
      "Epoch 4/5\n",
      "40000/40000 [==============================] - 6s 151us/step - loss: 0.6643 - acc: 0.5956 - val_loss: 0.6677 - val_acc: 0.5923\n",
      "Epoch 5/5\n",
      "40000/40000 [==============================] - 7s 179us/step - loss: 0.6635 - acc: 0.5962 - val_loss: 0.6693 - val_acc: 0.5895\n"
     ]
    }
   ],
   "source": [
    "Model_History = Model_T.fit([Training_Team_1, Training_Team_2], Train_L_T, epochs=5, verbose = 1, batch_size= Batch_Size, validation_data =([Testing_Team_1, Testing_Team_2], Test_L_T))"
   ]
  },
  {
   "cell_type": "markdown",
   "metadata": {},
   "source": [
    "#### Plotting accuracy of the model."
   ]
  },
  {
   "cell_type": "code",
   "execution_count": 38,
   "metadata": {},
   "outputs": [
    {
     "data": {
      "image/png": "[encoded data removed]",
      "text/plain": [
       "<Figure size 432x288 with 1 Axes>"
      ]
     },
     "metadata": {},
     "output_type": "display_data"
    }
   ],
   "source": [
    "plt.rc('lines', linewidth=1)\n",
    "plt.rc('axes', prop_cycle=(cycler(color=['blue', 'orange']) +\n",
    "                           cycler(linestyle=['-', '--'])))\n",
    "y1 = Model_History.history['acc']\n",
    "y2 = Model_History.history['val_acc']\n",
    "x = np.array([1,2,3,4,5])\n",
    "plt.xlabel('Epoch')\n",
    "plt.ylabel('Accuracy')\n",
    "plt.plot(x, y1, label='Training Data')\n",
    "plt.plot(x, y2, label='Testing Data')\n",
    "plt.title('LSTM FFNN Team Model')\n",
    "plt.legend()\n",
    "plt.savefig('Team_LSTM_FFNN_Model.png')\n",
    "plt.show()"
   ]
  }
 ],
 "metadata": {
  "kernelspec": {
   "display_name": "Python 3",
   "language": "python",
   "name": "python3"
  },
  "language_info": {
   "codemirror_mode": {
    "name": "ipython",
    "version": 3
   },
   "file_extension": ".py",
   "mimetype": "text/x-python",
   "name": "python",
   "nbconvert_exporter": "python",
   "pygments_lexer": "ipython3",
   "version": "3.5.5"
  }
 },
 "nbformat": 4,
 "nbformat_minor": 2
}
