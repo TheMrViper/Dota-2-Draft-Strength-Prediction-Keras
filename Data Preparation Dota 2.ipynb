{
 "cells": [
  {
   "cell_type": "code",
   "execution_count": null,
   "metadata": {},
   "outputs": [],
   "source": [
    "# Loading the required Libraries.\n",
    "import _pickle as pickle\n",
    "import pandas as pd\n",
    "import numpy as np\n",
    "from sklearn import preprocessing\n",
    "import warnings; warnings.simplefilter('ignore')"
   ]
  },
  {
   "cell_type": "code",
   "execution_count": null,
   "metadata": {},
   "outputs": [],
   "source": [
    "pwd()"
   ]
  },
  {
   "cell_type": "code",
   "execution_count": null,
   "metadata": {},
   "outputs": [],
   "source": [
    "Training_Data = 'Dota_2.vp'"
   ]
  },
  {
   "cell_type": "code",
   "execution_count": null,
   "metadata": {},
   "outputs": [],
   "source": [
    "with open(Training_Data, 'rb') as File:\n",
    "    D = pickle.Unpickler(File)\n",
    "    Data = D.load()"
   ]
  },
  {
   "cell_type": "code",
   "execution_count": null,
   "metadata": {},
   "outputs": [],
   "source": [
    "len(Data[0])"
   ]
  },
  {
   "cell_type": "code",
   "execution_count": null,
   "metadata": {},
   "outputs": [],
   "source": [
    "# Team 1’s hero IDs of 54400 matches. \n",
    "Data[0][0]"
   ]
  },
  {
   "cell_type": "code",
   "execution_count": null,
   "metadata": {},
   "outputs": [],
   "source": [
    "# Team 0’s hero IDs of 54400 matches.\n",
    "Data[1][0]"
   ]
  },
  {
   "cell_type": "code",
   "execution_count": null,
   "metadata": {},
   "outputs": [],
   "source": [
    "# Team 1’s stats of 54400 matches.\n",
    "Data[2][0]"
   ]
  },
  {
   "cell_type": "code",
   "execution_count": null,
   "metadata": {},
   "outputs": [],
   "source": [
    "#Team 0’s stats of 54400 matches.\n",
    "Data[3][0]\n"
   ]
  },
  {
   "cell_type": "code",
   "execution_count": null,
   "metadata": {},
   "outputs": [],
   "source": [
    "# Match result of 54400 matches.\n",
    "# Format (Team ID that won the game, duration of the game)\n",
    "Data[4][0]"
   ]
  },
  {
   "cell_type": "code",
   "execution_count": null,
   "metadata": {},
   "outputs": [],
   "source": [
    "# Merging the data.\n",
    "Team_0 = []\n",
    "Team_1 = []\n",
    "Team_0 = [[[z[i]] + Data[3][e][i]for i,l in enumerate(z)]for e,z in enumerate(Data[1])]\n",
    "Team_1 = [[[z[i]] + Data[2][e][i]for i,l in enumerate(z)]for e,z in enumerate(Data[0])]\n",
    "print(len(Team_0))\n",
    "print(len(Team_1))"
   ]
  },
  {
   "cell_type": "code",
   "execution_count": null,
   "metadata": {},
   "outputs": [],
   "source": [
    "Team_0[0][0]"
   ]
  },
  {
   "cell_type": "code",
   "execution_count": null,
   "metadata": {},
   "outputs": [],
   "source": [
    "for l, m in  enumerate(Data[4]):\n",
    "    if m[0] == 0:\n",
    "        for x,y in enumerate(Team_0[l]):\n",
    "            Team_0[l][x] = Team_0[l][x] + [1] + [l]\n",
    "    else:\n",
    "        for x,y in enumerate(Team_0[l]):\n",
    "            Team_0[l][x] = Team_0[l][x] + [0] + [l]"
   ]
  },
  {
   "cell_type": "code",
   "execution_count": null,
   "metadata": {},
   "outputs": [],
   "source": [
    "Team_0[0][0]"
   ]
  },
  {
   "cell_type": "code",
   "execution_count": null,
   "metadata": {},
   "outputs": [],
   "source": [
    "Team_1[0][0]"
   ]
  },
  {
   "cell_type": "code",
   "execution_count": null,
   "metadata": {},
   "outputs": [],
   "source": [
    "for l, m in  enumerate(Data[4]):\n",
    "    if m[0] == 1:\n",
    "        for x,y in enumerate(Team_1[l]):\n",
    "            Team_1[l][x] = Team_1[l][x] + [1] + [l]\n",
    "    else:\n",
    "        for x,y in enumerate(Team_1[l]):\n",
    "            Team_1[l][x] = Team_1[l][x] + [0] + [l]\n"
   ]
  },
  {
   "cell_type": "code",
   "execution_count": null,
   "metadata": {},
   "outputs": [],
   "source": [
    "Team_1[0][0]"
   ]
  },
  {
   "cell_type": "code",
   "execution_count": null,
   "metadata": {},
   "outputs": [],
   "source": [
    "# Combining all the Team Data.\n",
    "All_Data = []\n",
    "All_Data = [Team_0[i]+Team_1[i] for i,l in enumerate(Team_1)]\n",
    "len(All_Data)"
   ]
  },
  {
   "cell_type": "code",
   "execution_count": null,
   "metadata": {},
   "outputs": [],
   "source": [
    "# Unwrapping the Team Data into individual rows for Machine Learning Model.\n",
    "Final_Data = []\n",
    "Final_Data = [l for z in All_Data for l in z]\n",
    "len(Final_Data)"
   ]
  },
  {
   "cell_type": "code",
   "execution_count": null,
   "metadata": {},
   "outputs": [],
   "source": [
    "# Creating DataFrame Object.\n",
    "Dota_2_DF = pd.DataFrame(Final_Data)\n",
    "Dota_2_DF.head()"
   ]
  },
  {
   "cell_type": "code",
   "execution_count": null,
   "metadata": {},
   "outputs": [],
   "source": [
    "# Renaming the Columns.\n",
    "Dota_2_DF.columns = ['Hero_ID','Hero_ID_2','Kills','Deaths','Assists','Available_Gold','Last_Hits','Denies','GPM','XPM','Networth','XP','Stat_1','MVP_Votes','Duration','Win/Loss', 'Match_ID']\n",
    "Dota_2_DF.head(10)"
   ]
  },
  {
   "cell_type": "code",
   "execution_count": null,
   "metadata": {},
   "outputs": [],
   "source": [
    "# Saving the CSV file.\n",
    "Dota_2_DF.to_csv('Dota_2_Cleaned_Data.csv')\n"
   ]
  },
  {
   "cell_type": "code",
   "execution_count": null,
   "metadata": {},
   "outputs": [],
   "source": [
    "ID = []\n",
    "ID = Dota_2_DF[Dota_2_DF['Hero_ID'].notnull()]['Hero_ID'].astype('int')\n",
    "ID = list(ID)\n",
    "U_ID=np.asarray(ID)\n",
    "Unique_ID = np.unique(U_ID)\n",
    "len(Unique_ID)"
   ]
  },
  {
   "cell_type": "code",
   "execution_count": null,
   "metadata": {},
   "outputs": [],
   "source": [
    "Scaled_Data = pd.DataFrame()\n",
    "Scaled_DF = pd.DataFrame()\n",
    "for l in Unique_ID:\n",
    "    ID_DF =  Dota_2_DF[Dota_2_DF[Dota_2_DF['Hero_ID'].notnull()]['Hero_ID'] == int(l)]\n",
    "    DF_Transfomed = ID_DF.drop(['Hero_ID', 'Hero_ID_2', 'MVP_Votes', 'Win/Loss', 'Match_ID', 'Duration'], axis=1)\n",
    "    Val = DF_Transfomed.values\n",
    "    Min_Max_Scaler = preprocessing.MinMaxScaler()\n",
    "    Val_Scaled = Min_Max_Scaler.fit_transform(Val)\n",
    "    Scaled_DF = pd.DataFrame(Val_Scaled)\n",
    "    Scaled_DF.columns = ['Kills','Deaths','Assists','Available_Gold','Last_Hits','Denies','GPM','XPM','Networth','XP','Stat_1']\n",
    "    Scaled_DF['Hero_ID']  = list(ID_DF['Hero_ID'].astype(int))\n",
    "    Scaled_DF['Hero_ID_2']  = list(ID_DF['Hero_ID_2'].astype(int))\n",
    "    Scaled_DF['MVP_Votes']  = list(ID_DF['MVP_Votes'].astype(int))\n",
    "    Scaled_DF['Win/Loss']  = list(ID_DF['Win/Loss'].astype(int))\n",
    "    Scaled_DF['Match_ID']  = list(ID_DF['Match_ID'].astype(int))\n",
    "    Scaled_DF['Duration']  = list(ID_DF['Duration'].astype(int))\n",
    "    Scaled_DF = Scaled_DF[['Hero_ID','Hero_ID_2','Kills','Deaths','Assists','Available_Gold','Last_Hits','Denies','GPM','XPM','Networth','XP','Stat_1','MVP_Votes','Duration','Win/Loss', 'Match_ID']]\n",
    "    Scaled_Data = pd.concat([Scaled_Data, Scaled_DF])\n",
    " "
   ]
  },
  {
   "cell_type": "code",
   "execution_count": null,
   "metadata": {},
   "outputs": [],
   "source": [
    "Scaled_Data = Scaled_Data.sort_values(by=['Match_ID'])\n",
    "Scaled_Data.head(10)"
   ]
  },
  {
   "cell_type": "code",
   "execution_count": null,
   "metadata": {},
   "outputs": [],
   "source": [
    "Average_Data = pd.DataFrame()\n",
    "Average_DF = pd.DataFrame()\n",
    "\n",
    "for l in Unique_ID:\n",
    "    ID_DF =  Dota_2_DF[Dota_2_DF[Dota_2_DF['Hero_ID'].notnull()]['Hero_ID'] == int(l)]\n",
    "    DF_Transfomed = ID_DF.drop(['Hero_ID', 'Win/Loss', 'Match_ID'], axis=1)\n",
    "    Win_Loss = list(ID_DF['Win/Loss'])\n",
    "    Win_Rate = np.sum(Win_Loss)/len(Win_Loss)\n",
    "    L1 = list(DF_Transfomed.mean(axis = 0))\n",
    "    Average_DF = pd.DataFrame(L1).T\n",
    "    Average_DF.columns = ['Hero_ID_2','Kills','Deaths','Assists','Available_Gold','Last_Hits','Denies','GPM','XPM','Networth','XP','Stat_1','MVP_Votes','Duration']\n",
    "    Average_DF['Hero_ID']  = [l]\n",
    "    Average_DF['Win_Rate'] = [Win_Rate]\n",
    "    Average_DF = Average_DF[['Hero_ID','Hero_ID_2','Kills','Deaths','Assists','Available_Gold','Last_Hits','Denies','GPM','XPM','Networth','XP','Stat_1','MVP_Votes','Win_Rate']]\n",
    "    Average_Data = pd.concat([Average_Data, Average_DF])\n",
    " "
   ]
  },
  {
   "cell_type": "code",
   "execution_count": null,
   "metadata": {},
   "outputs": [],
   "source": [
    "Average_Data.tail(10)"
   ]
  },
  {
   "cell_type": "code",
   "execution_count": null,
   "metadata": {},
   "outputs": [],
   "source": [
    "Join = Average_Data[['Hero_ID','Win_Rate']]"
   ]
  },
  {
   "cell_type": "code",
   "execution_count": null,
   "metadata": {},
   "outputs": [],
   "source": [
    "Scaled_Data = Join.merge(Scaled_Data, on = 'Hero_ID')\n",
    "Scaled_Data = Scaled_Data[['Hero_ID','Hero_ID_2','Kills','Deaths','Assists','Available_Gold','Last_Hits','Denies','GPM','XPM','Networth','XP','Stat_1','MVP_Votes','Duration','Win/Loss','Win_Rate','Match_ID']]\n",
    "Scaled_Data = Scaled_Data.sort_values(by=['Match_ID'])\n",
    "Scaled_Data.head(10)"
   ]
  },
  {
   "cell_type": "code",
   "execution_count": null,
   "metadata": {},
   "outputs": [],
   "source": [
    "Average_Scaled_Data = pd.DataFrame()\n",
    "Average_DF = pd.DataFrame()\n",
    "Scaled_DF = pd.DataFrame()\n",
    "for l in Unique_ID:\n",
    "    ID_DF =  Dota_2_DF[Dota_2_DF[Dota_2_DF['Hero_ID'].notnull()]['Hero_ID'] == int(l)]\n",
    "    DF_Transfomed = ID_DF.drop(['Hero_ID', 'Win/Loss', 'Match_ID'], axis=1)\n",
    "    Win_Loss = list(ID_DF['Win/Loss'])\n",
    "    Win_Rate = np.sum(Win_Loss)/len(Win_Loss)\n",
    "    Val = DF_Transfomed.values\n",
    "    Min_Max_Scaler = preprocessing.MinMaxScaler()\n",
    "    Val_Scaled = Min_Max_Scaler.fit_transform(Val)\n",
    "    Scaled_DF = pd.DataFrame(Val_Scaled)    \n",
    "    L1 = list(Scaled_DF.mean(axis = 0))\n",
    "    Average_DF = pd.DataFrame(L1).T\n",
    "    Average_DF.columns = ['Hero_ID_2','Kills','Deaths','Assists','Available_Gold','Last_Hits','Denies','GPM','XPM','Networth','XP','Stat_1','MVP_Votes','Duration']\n",
    "    Average_DF['Hero_ID']  = [l]\n",
    "    Average_DF['Win_Rate'] = [Win_Rate]\n",
    "    Average_DF = Average_DF[['Hero_ID','Hero_ID_2','Kills','Deaths','Assists','Available_Gold','Last_Hits','Denies','GPM','XPM','Networth','XP','Stat_1','MVP_Votes','Win_Rate']]\n",
    "    Average_Scaled_Data = pd.concat([Average_Scaled_Data, Average_DF])\n",
    " "
   ]
  },
  {
   "cell_type": "code",
   "execution_count": null,
   "metadata": {},
   "outputs": [],
   "source": [
    "Average_Scaled_Data"
   ]
  },
  {
   "cell_type": "code",
   "execution_count": null,
   "metadata": {},
   "outputs": [],
   "source": [
    "Scaled_Data.head(100)"
   ]
  },
  {
   "cell_type": "code",
   "execution_count": null,
   "metadata": {},
   "outputs": [],
   "source": [
    "Scaled_Data.to_csv('Dota_2_Scaled_Data.csv')"
   ]
  },
  {
   "cell_type": "code",
   "execution_count": null,
   "metadata": {},
   "outputs": [],
   "source": [
    "Average_Data.to_csv('Dota_2_Heroes_Average_Data.csv')"
   ]
  },
  {
   "cell_type": "code",
   "execution_count": null,
   "metadata": {},
   "outputs": [],
   "source": [
    "Average_Scaled_Data.to_csv('Dota_2_Heroes_Scaled_Average_Data.csv')"
   ]
  }
 ],
 "metadata": {
  "kernelspec": {
   "display_name": "Python 3",
   "language": "python",
   "name": "python3"
  },
  "language_info": {
   "codemirror_mode": {
    "name": "ipython",
    "version": 3
   },
   "file_extension": ".py",
   "mimetype": "text/x-python",
   "name": "python",
   "nbconvert_exporter": "python",
   "pygments_lexer": "ipython3",
   "version": "3.5.5"
  }
 },
 "nbformat": 4,
 "nbformat_minor": 2
}
