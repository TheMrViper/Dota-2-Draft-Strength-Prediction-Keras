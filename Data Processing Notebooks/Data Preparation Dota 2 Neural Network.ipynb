{
 "cells": [
  {
   "cell_type": "code",
   "execution_count": null,
   "metadata": {},
   "outputs": [],
   "source": [
    "import pandas as pd\n",
    "import numpy as np\n",
    "from IPython.display import clear_output\n"
   ]
  },
  {
   "cell_type": "code",
   "execution_count": null,
   "metadata": {},
   "outputs": [],
   "source": [
    "# Import Data as Pandas Dataframe.\n",
    "Dota_2_DF = pd.read_csv('Dota_2_Cleaned_Data.csv')\n",
    "Heroes_Average_DF = pd.read_csv('Dota_2_Heroes_Average_Data.csv')"
   ]
  },
  {
   "cell_type": "code",
   "execution_count": null,
   "metadata": {},
   "outputs": [],
   "source": [
    "Dota_2_DF.head(15)"
   ]
  },
  {
   "cell_type": "code",
   "execution_count": null,
   "metadata": {},
   "outputs": [],
   "source": [
    "Index = np.arange(0,543999,5)\n",
    "Index = Index.tolist()\n",
    "New_List = []\n",
    "for l in Index:\n",
    "    print(l)\n",
    "    clear_output()\n",
    "    Temp = Dota_2_DF[l:l+5]\n",
    "    Temp.loc['Total'] = pd.Series(Temp.sum())\n",
    "    Total = Temp[5:]\n",
    "    Total_Ar = list(Total.values)\n",
    "    Total_Lst = []\n",
    "    Total_Lst = Total_Ar[0].tolist()\n",
    "    Stat_Lst = Total_Lst[3:6] + Total_Lst[7:13] + [Total_Lst[16]]\n",
    "    Temp_1 = Dota_2_DF[l:l+5]\n",
    "    Duration = Temp_1['Duration']\n",
    "    Team_ID = Temp_1['Hero_ID']\n",
    "    Team_ID_Lst = list(Team_ID.values)\n",
    "    Duration_Lst = list(Duration)\n",
    "    Final_List = Team_ID_Lst + Stat_Lst + [Duration_Lst[0]]\n",
    "    New_List.append(Final_List)\n",
    "    Final_List = []"
   ]
  },
  {
   "cell_type": "code",
   "execution_count": null,
   "metadata": {},
   "outputs": [],
   "source": [
    "Dota_2_Model_Data = pd.DataFrame(New_List)\n",
    "Columns = ['Hero_1','Hero_2','Hero_3','Hero_4','Hero_5','Kills','Deaths','Assists','Last_Hits','Denies','GPM','XPM','Networth','XP','Win/Loss','Duration']\n",
    "Dota_2_Model_Data.columns = Columns\n",
    "Dota_2_Model_Data.head(10)"
   ]
  },
  {
   "cell_type": "code",
   "execution_count": null,
   "metadata": {},
   "outputs": [],
   "source": [
    "Dota_2_Model_Data.to_csv('Dota_2_Model_Data.csv')\n"
   ]
  }
 ],
 "metadata": {
  "kernelspec": {
   "display_name": "Python 3",
   "language": "python",
   "name": "python3"
  },
  "language_info": {
   "codemirror_mode": {
    "name": "ipython",
    "version": 3
   },
   "file_extension": ".py",
   "mimetype": "text/x-python",
   "name": "python",
   "nbconvert_exporter": "python",
   "pygments_lexer": "ipython3",
   "version": "3.5.5"
  }
 },
 "nbformat": 4,
 "nbformat_minor": 2
}
