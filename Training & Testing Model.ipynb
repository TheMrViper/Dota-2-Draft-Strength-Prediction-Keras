{
 "cells": [
  {
   "cell_type": "code",
   "execution_count": 1,
   "metadata": {},
   "outputs": [
    {
     "name": "stderr",
     "output_type": "stream",
     "text": [
      "C:\\Users\\shrin\\AppData\\Local\\conda\\conda\\envs\\Work\\lib\\site-packages\\h5py\\__init__.py:36: FutureWarning: Conversion of the second argument of issubdtype from `float` to `np.floating` is deprecated. In future, it will be treated as `np.float64 == np.dtype(float).type`.\n",
      "  from ._conv import register_converters as _register_converters\n",
      "Using TensorFlow backend.\n"
     ]
    }
   ],
   "source": [
    "from training_model import training_model\n",
    "from testing_model import testing_model\n",
    "import warnings\n",
    "warnings.simplefilter(\"ignore\")"
   ]
  },
  {
   "cell_type": "code",
   "execution_count": 2,
   "metadata": {},
   "outputs": [
    {
     "name": "stdout",
     "output_type": "stream",
     "text": [
      "Training Begins ...\n",
      "Train on 40000 samples, validate on 10000 samples\n",
      "Epoch 1/5\n",
      "40000/40000 [==============================] - 2s 46us/step - loss: 0.6949 - acc: 0.5193 - val_loss: 0.6926 - val_acc: 0.5137\n",
      "Epoch 2/5\n",
      "40000/40000 [==============================] - 1s 13us/step - loss: 0.6921 - acc: 0.5232 - val_loss: 0.6920 - val_acc: 0.5232\n",
      "Epoch 3/5\n",
      "40000/40000 [==============================] - 1s 13us/step - loss: 0.6916 - acc: 0.5254 - val_loss: 0.6918 - val_acc: 0.5221\n",
      "Epoch 4/5\n",
      "40000/40000 [==============================] - 1s 16us/step - loss: 0.6915 - acc: 0.5270 - val_loss: 0.6925 - val_acc: 0.5228\n",
      "Epoch 5/5\n",
      "40000/40000 [==============================] - 1s 14us/step - loss: 0.6913 - acc: 0.5274 - val_loss: 0.6938 - val_acc: 0.5228\n"
     ]
    }
   ],
   "source": [
    "training_model('FFNN', 'Hero')"
   ]
  },
  {
   "cell_type": "code",
   "execution_count": 3,
   "metadata": {},
   "outputs": [
    {
     "name": "stdout",
     "output_type": "stream",
     "text": [
      "My Team Strength: 45.141467452049255%\n",
      "Enemy Team Strength: 54.858532547950745%\n"
     ]
    }
   ],
   "source": [
    "testing_model('FFNN', 'Hero', [8, 36, 119, 27, 75], [17, 20, 71, 47, 109])"
   ]
  }
 ],
 "metadata": {
  "kernelspec": {
   "display_name": "Python 3",
   "language": "python",
   "name": "python3"
  },
  "language_info": {
   "codemirror_mode": {
    "name": "ipython",
    "version": 3
   },
   "file_extension": ".py",
   "mimetype": "text/x-python",
   "name": "python",
   "nbconvert_exporter": "python",
   "pygments_lexer": "ipython3",
   "version": "3.5.5"
  }
 },
 "nbformat": 4,
 "nbformat_minor": 2
}
