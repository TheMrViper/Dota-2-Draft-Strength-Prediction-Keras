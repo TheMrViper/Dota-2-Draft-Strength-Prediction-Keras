{
 "cells": [
  {
   "cell_type": "markdown",
   "metadata": {},
   "source": [
    "### Predicting Dota 2 Draft Strength Using Keras. "
   ]
  },
  {
   "cell_type": "markdown",
   "metadata": {},
   "source": [
    "#### Using Team Input we will try to predict which team has a better draft."
   ]
  },
  {
   "cell_type": "markdown",
   "metadata": {},
   "source": [
    "#### Loading Libraries."
   ]
  },
  {
   "cell_type": "code",
   "execution_count": 1,
   "metadata": {},
   "outputs": [
    {
     "name": "stderr",
     "output_type": "stream",
     "text": [
      "C:\\ProgramData\\Anaconda3\\lib\\site-packages\\h5py\\__init__.py:36: FutureWarning: Conversion of the second argument of issubdtype from `float` to `np.floating` is deprecated. In future, it will be treated as `np.float64 == np.dtype(float).type`.\n",
      "  from ._conv import register_converters as _register_converters\n"
     ]
    }
   ],
   "source": [
    "import pandas as pd\n",
    "import numpy as np\n",
    "import tensorflow as tf\n",
    "from tensorflow.python.keras.layers import Input, Dense, Activation, Add, LSTM, Embedding\n",
    "from tensorflow.python.keras.models import Model\n",
    "from matplotlib import pyplot\n",
    "import warnings; warnings.simplefilter('ignore')\n",
    "tf.reset_default_graph()"
   ]
  },
  {
   "cell_type": "markdown",
   "metadata": {},
   "source": [
    "#### Import Data as Pandas Dataframe Object."
   ]
  },
  {
   "cell_type": "code",
   "execution_count": 2,
   "metadata": {},
   "outputs": [],
   "source": [
    "Dota_2_DF = pd.read_csv('Dota_2_Model_Data.csv')"
   ]
  },
  {
   "cell_type": "code",
   "execution_count": 3,
   "metadata": {},
   "outputs": [
    {
     "name": "stdout",
     "output_type": "stream",
     "text": [
      "(108800, 17)\n"
     ]
    }
   ],
   "source": [
    "print(Dota_2_DF.shape)"
   ]
  },
  {
   "cell_type": "markdown",
   "metadata": {},
   "source": [
    "#### View Dataframe."
   ]
  },
  {
   "cell_type": "code",
   "execution_count": 4,
   "metadata": {},
   "outputs": [
    {
     "data": {
      "text/html": [
       "<div>\n",
       "<style scoped>\n",
       "    .dataframe tbody tr th:only-of-type {\n",
       "        vertical-align: middle;\n",
       "    }\n",
       "\n",
       "    .dataframe tbody tr th {\n",
       "        vertical-align: top;\n",
       "    }\n",
       "\n",
       "    .dataframe thead th {\n",
       "        text-align: right;\n",
       "    }\n",
       "</style>\n",
       "<table border=\"1\" class=\"dataframe\">\n",
       "  <thead>\n",
       "    <tr style=\"text-align: right;\">\n",
       "      <th></th>\n",
       "      <th>Unnamed: 0</th>\n",
       "      <th>Hero_1</th>\n",
       "      <th>Hero_2</th>\n",
       "      <th>Hero_3</th>\n",
       "      <th>Hero_4</th>\n",
       "      <th>Hero_5</th>\n",
       "      <th>Kills</th>\n",
       "      <th>Deaths</th>\n",
       "      <th>Assists</th>\n",
       "      <th>Last_Hits</th>\n",
       "      <th>Denies</th>\n",
       "      <th>GPM</th>\n",
       "      <th>XPM</th>\n",
       "      <th>Networth</th>\n",
       "      <th>XP</th>\n",
       "      <th>Win/Loss</th>\n",
       "      <th>Duration</th>\n",
       "    </tr>\n",
       "  </thead>\n",
       "  <tbody>\n",
       "    <tr>\n",
       "      <th>0</th>\n",
       "      <td>0</td>\n",
       "      <td>34</td>\n",
       "      <td>63</td>\n",
       "      <td>83</td>\n",
       "      <td>67</td>\n",
       "      <td>97</td>\n",
       "      <td>39</td>\n",
       "      <td>48</td>\n",
       "      <td>79</td>\n",
       "      <td>1499</td>\n",
       "      <td>17</td>\n",
       "      <td>2312</td>\n",
       "      <td>2824</td>\n",
       "      <td>122085</td>\n",
       "      <td>181281</td>\n",
       "      <td>5</td>\n",
       "      <td>3647</td>\n",
       "    </tr>\n",
       "  </tbody>\n",
       "</table>\n",
       "</div>"
      ],
      "text/plain": [
       "   Unnamed: 0  Hero_1  Hero_2  Hero_3  Hero_4  Hero_5  Kills  Deaths  Assists  \\\n",
       "0           0      34      63      83      67      97     39      48       79   \n",
       "\n",
       "   Last_Hits  Denies   GPM   XPM  Networth      XP  Win/Loss  Duration  \n",
       "0       1499      17  2312  2824    122085  181281         5      3647  "
      ]
     },
     "execution_count": 4,
     "metadata": {},
     "output_type": "execute_result"
    }
   ],
   "source": [
    "Dota_2_DF.head(1)"
   ]
  },
  {
   "cell_type": "markdown",
   "metadata": {},
   "source": [
    "#### Taking 50000 matches data and defining model variables and label."
   ]
  },
  {
   "cell_type": "code",
   "execution_count": 5,
   "metadata": {},
   "outputs": [],
   "source": [
    "Dota_2_DF = Dota_2_DF.head(100000)\n",
    "# Select Rows with Even Indices\n",
    "Team_1 = Dota_2_DF.iloc[::2]\n",
    "# Select Rows with Odd Indices\n",
    "Team_2 = Dota_2_DF.iloc[1::2]\n",
    "Label_Data = Team_1[['Win/Loss']]\n",
    "Label_Data = Label_Data.values\n",
    "Label_Data[Label_Data >= 1] = 1\n",
    "Team_1 = Team_1[['Hero_1', 'Hero_2', 'Hero_3', 'Hero_4', 'Hero_5']]\n",
    "Team_2 = Team_2[['Hero_1', 'Hero_2', 'Hero_3', 'Hero_4', 'Hero_5']]\n",
    "Team_1 = Team_1.values\n",
    "Team_2 = Team_2.values"
   ]
  },
  {
   "cell_type": "markdown",
   "metadata": {},
   "source": [
    "#### Shuffling the entire dataset to disrupt the order of matches according to time to prevent any bias."
   ]
  },
  {
   "cell_type": "markdown",
   "metadata": {},
   "source": [
    "#### As the dataset has recorded all matches between a duration of an hour and we need our model to have data for any time and not skewed towards the eary or later part of the hour."
   ]
  },
  {
   "cell_type": "code",
   "execution_count": 6,
   "metadata": {},
   "outputs": [],
   "source": [
    "Permutation = np.random.permutation(Team_1.shape[0])\n",
    "Team_1 = Team_1[Permutation]\n",
    "Team_2 = Team_2[Permutation]\n",
    "Label_Data = Label_Data[Permutation]"
   ]
  },
  {
   "cell_type": "markdown",
   "metadata": {},
   "source": [
    "#### Training & Testing Data - Hero ID."
   ]
  },
  {
   "cell_type": "code",
   "execution_count": 7,
   "metadata": {},
   "outputs": [
    {
     "name": "stdout",
     "output_type": "stream",
     "text": [
      "[114  22  78  88  11]\n",
      "[  9  81  34 118   3]\n",
      "[ 80  79 109  12  71]\n",
      "[ 40  70 102 113   8]\n",
      "[1]\n",
      "[1]\n"
     ]
    }
   ],
   "source": [
    "Training_Team_1 = Team_1[:40000]\n",
    "Training_Team_2 = Team_2[:40000]\n",
    "Train_L = Label_Data[:40000]\n",
    "\n",
    "Testing_Team_1 = Team_1[40000:]\n",
    "Testing_Team_2 = Team_2[40000:]\n",
    "Test_L = Label_Data[40000:]\n",
    "\n",
    "print(Training_Team_1[0])\n",
    "print(Training_Team_2[0])\n",
    "print(Testing_Team_1[0])\n",
    "print(Testing_Team_2[0])\n",
    "print(Train_L[0])\n",
    "print(Test_L[0])"
   ]
  },
  {
   "cell_type": "markdown",
   "metadata": {},
   "source": [
    "#### Label = 1 Means Team 1 Won and Label = 0 Means Team 2 Won."
   ]
  },
  {
   "cell_type": "markdown",
   "metadata": {},
   "source": [
    "### Team Heroes Input Feed Forward Network."
   ]
  },
  {
   "cell_type": "code",
   "execution_count": 8,
   "metadata": {},
   "outputs": [
    {
     "name": "stdout",
     "output_type": "stream",
     "text": [
      "__________________________________________________________________________________________________\n",
      "Layer (type)                    Output Shape         Param #     Connected to                     \n",
      "==================================================================================================\n",
      "input_1 (InputLayer)            (None, 5)            0                                            \n",
      "__________________________________________________________________________________________________\n",
      "input_2 (InputLayer)            (None, 5)            0                                            \n",
      "__________________________________________________________________________________________________\n",
      "dense (Dense)                   (None, 64)           384         input_1[0][0]                    \n",
      "__________________________________________________________________________________________________\n",
      "dense_1 (Dense)                 (None, 64)           384         input_2[0][0]                    \n",
      "__________________________________________________________________________________________________\n",
      "add (Add)                       (None, 64)           0           dense[0][0]                      \n",
      "                                                                 dense_1[0][0]                    \n",
      "__________________________________________________________________________________________________\n",
      "dense_2 (Dense)                 (None, 32)           2080        add[0][0]                        \n",
      "__________________________________________________________________________________________________\n",
      "dense_3 (Dense)                 (None, 1)            33          dense_2[0][0]                    \n",
      "==================================================================================================\n",
      "Total params: 2,881\n",
      "Trainable params: 2,881\n",
      "Non-trainable params: 0\n",
      "__________________________________________________________________________________________________\n"
     ]
    }
   ],
   "source": [
    "Initializer = tf.keras.initializers.glorot_normal()\n",
    "T_1 = Input(shape=(5,))\n",
    "Team_1 = Dense(64, activation='relu', kernel_initializer= Initializer)(T_1)\n",
    "T_2 = Input(shape=(5,))\n",
    "Team_2 = Dense(64, activation='relu', kernel_initializer= Initializer)(T_2)\n",
    "\n",
    "Merged = Add()([Team_1, Team_2])\n",
    "Layer_1 = Dense(32, activation='sigmoid', kernel_initializer= Initializer)(Merged)\n",
    "\n",
    "Output = Dense(1, activation='sigmoid')(Layer_1)\n",
    "Model_T = Model(inputs=[T_1, T_2], outputs=Output)\n",
    "Model_T.summary()"
   ]
  },
  {
   "cell_type": "code",
   "execution_count": 9,
   "metadata": {},
   "outputs": [
    {
     "name": "stdout",
     "output_type": "stream",
     "text": [
      "Train on 40000 samples, validate on 10000 samples\n",
      "Epoch 1/5\n",
      "40000/40000 [==============================] - 6s 139us/step - loss: 0.6928 - acc: 0.5189 - val_loss: 0.6908 - val_acc: 0.5288\n",
      "Epoch 2/5\n",
      "40000/40000 [==============================] - 2s 52us/step - loss: 0.6914 - acc: 0.5255 - val_loss: 0.6906 - val_acc: 0.5287\n",
      "Epoch 3/5\n",
      "40000/40000 [==============================] - 2s 53us/step - loss: 0.6910 - acc: 0.5261 - val_loss: 0.6900 - val_acc: 0.5369\n",
      "Epoch 4/5\n",
      "40000/40000 [==============================] - 2s 52us/step - loss: 0.6909 - acc: 0.5306 - val_loss: 0.6904 - val_acc: 0.5286\n",
      "Epoch 5/5\n",
      "40000/40000 [==============================] - 2s 52us/step - loss: 0.6908 - acc: 0.5266 - val_loss: 0.6902 - val_acc: 0.5317\n"
     ]
    }
   ],
   "source": [
    "Batch_Size = 128\n",
    "Model_T.compile(loss = 'binary_crossentropy', optimizer = 'adam', metrics = ['accuracy'])\n",
    "Model_History = Model_T.fit([Training_Team_1, Training_Team_2], Train_L, epochs=5, verbose = 1, batch_size= Batch_Size, validation_data =([Testing_Team_1, Testing_Team_2], Test_L))"
   ]
  },
  {
   "cell_type": "code",
   "execution_count": 10,
   "metadata": {},
   "outputs": [
    {
     "data": {
      "image/png": "[encoded data removed]",
      "text/plain": [
       "<Figure size 432x288 with 1 Axes>"
      ]
     },
     "metadata": {},
     "output_type": "display_data"
    }
   ],
   "source": [
    "pyplot.plot(Model_History.history['loss'], label='train')\n",
    "pyplot.plot(Model_History.history['val_loss'], label='test')\n",
    "pyplot.legend()\n",
    "pyplot.show()"
   ]
  },
  {
   "cell_type": "code",
   "execution_count": 11,
   "metadata": {},
   "outputs": [
    {
     "data": {
      "image/png": "[encoded data removed]",
      "text/plain": [
       "<Figure size 432x288 with 1 Axes>"
      ]
     },
     "metadata": {},
     "output_type": "display_data"
    }
   ],
   "source": [
    "pyplot.plot(Model_History.history['acc'], label='train')\n",
    "pyplot.plot(Model_History.history['val_acc'], label='test')\n",
    "pyplot.legend()\n",
    "pyplot.show()"
   ]
  },
  {
   "cell_type": "markdown",
   "metadata": {},
   "source": [
    "### Team Heroes Input Long Short Term Memory Network."
   ]
  },
  {
   "cell_type": "code",
   "execution_count": 12,
   "metadata": {},
   "outputs": [
    {
     "name": "stdout",
     "output_type": "stream",
     "text": [
      "__________________________________________________________________________________________________\n",
      "Layer (type)                    Output Shape         Param #     Connected to                     \n",
      "==================================================================================================\n",
      "Team_1 (InputLayer)             (None, 5)            0                                            \n",
      "__________________________________________________________________________________________________\n",
      "Team_2 (InputLayer)             (None, 5)            0                                            \n",
      "__________________________________________________________________________________________________\n",
      "embedding (Embedding)           (None, 5, 32)        4000        Team_1[0][0]                     \n",
      "                                                                 Team_2[0][0]                     \n",
      "__________________________________________________________________________________________________\n",
      "lstm (LSTM)                     (None, 32)           8320        embedding[0][0]                  \n",
      "                                                                 embedding[1][0]                  \n",
      "__________________________________________________________________________________________________\n",
      "add_1 (Add)                     (None, 32)           0           lstm[0][0]                       \n",
      "                                                                 lstm[1][0]                       \n",
      "__________________________________________________________________________________________________\n",
      "dense_4 (Dense)                 (None, 32)           1056        add_1[0][0]                      \n",
      "__________________________________________________________________________________________________\n",
      "dense_5 (Dense)                 (None, 1)            33          dense_4[0][0]                    \n",
      "==================================================================================================\n",
      "Total params: 13,409\n",
      "Trainable params: 13,409\n",
      "Non-trainable params: 0\n",
      "__________________________________________________________________________________________________\n"
     ]
    }
   ],
   "source": [
    "Initializer = tf.keras.initializers.glorot_normal()\n",
    "T_1 = Input(shape=(5,), dtype='int32', name='Team_1')\n",
    "T_2 = Input(shape=(5,), dtype='int32', name='Team_2')\n",
    "\n",
    "Emb = Embedding(input_dim=125, output_dim=32, input_length=5)\n",
    "Emb_T1= Emb(T_1)\n",
    "Emb_T2 = Emb(T_2)\n",
    "\n",
    "LSTM_Team = LSTM(32, input_shape=(1,32))\n",
    "\n",
    "Emb_LSTM_1 = LSTM_Team(Emb_T1)\n",
    "Emb_LSTM_2 = LSTM_Team(Emb_T2)\n",
    "\n",
    "Merged = Add()([Emb_LSTM_1, Emb_LSTM_2])\n",
    "Layer_1 = Dense(32, activation='tanh', kernel_initializer= Initializer)(Merged)\n",
    "\n",
    "Output = Dense(1, activation='sigmoid')(Layer_1)\n",
    "Model_T = Model(inputs=[T_1, T_2], outputs=Output)\n",
    "Model_T.summary()"
   ]
  },
  {
   "cell_type": "code",
   "execution_count": 13,
   "metadata": {},
   "outputs": [
    {
     "name": "stdout",
     "output_type": "stream",
     "text": [
      "Train on 40000 samples, validate on 10000 samples\n",
      "Epoch 1/5\n",
      "40000/40000 [==============================] - 15s 373us/step - loss: 0.6944 - acc: 0.5165 - val_loss: 0.6922 - val_acc: 0.5239\n",
      "Epoch 2/5\n",
      "40000/40000 [==============================] - 11s 285us/step - loss: 0.6932 - acc: 0.5151 - val_loss: 0.6923 - val_acc: 0.5305\n",
      "Epoch 3/5\n",
      "40000/40000 [==============================] - 11s 284us/step - loss: 0.6925 - acc: 0.5218 - val_loss: 0.6925 - val_acc: 0.5195\n",
      "Epoch 4/5\n",
      "40000/40000 [==============================] - 11s 285us/step - loss: 0.6920 - acc: 0.5238 - val_loss: 0.6925 - val_acc: 0.5305\n",
      "Epoch 5/5\n",
      "40000/40000 [==============================] - 11s 285us/step - loss: 0.6915 - acc: 0.5255 - val_loss: 0.6920 - val_acc: 0.5273\n"
     ]
    }
   ],
   "source": [
    "Batch_Size = 128\n",
    "Model_T.compile(loss = 'binary_crossentropy', optimizer = 'adam', metrics = ['accuracy'])\n",
    "Model_History = Model_T.fit([Training_Team_1, Training_Team_2], Train_L, epochs=5, verbose = 1, batch_size= Batch_Size, validation_data =([Testing_Team_1, Testing_Team_2], Test_L))"
   ]
  },
  {
   "cell_type": "code",
   "execution_count": 14,
   "metadata": {},
   "outputs": [
    {
     "data": {
      "image/png": "[encoded data removed]",
      "text/plain": [
       "<Figure size 432x288 with 1 Axes>"
      ]
     },
     "metadata": {},
     "output_type": "display_data"
    }
   ],
   "source": [
    "pyplot.plot(Model_History.history['loss'], label='train')\n",
    "pyplot.plot(Model_History.history['val_loss'], label='test')\n",
    "pyplot.legend()\n",
    "pyplot.show()"
   ]
  },
  {
   "cell_type": "code",
   "execution_count": 15,
   "metadata": {},
   "outputs": [
    {
     "data": {
      "image/png": "[encoded data removed]",
      "text/plain": [
       "<Figure size 432x288 with 1 Axes>"
      ]
     },
     "metadata": {},
     "output_type": "display_data"
    }
   ],
   "source": [
    "pyplot.plot(Model_History.history['acc'], label='train')\n",
    "pyplot.plot(Model_History.history['val_acc'], label='test')\n",
    "pyplot.legend()\n",
    "pyplot.show()"
   ]
  },
  {
   "cell_type": "markdown",
   "metadata": {},
   "source": [
    "### Team Heroes Input Long Short Term Memory Network With Feed Forward Network."
   ]
  },
  {
   "cell_type": "code",
   "execution_count": 16,
   "metadata": {},
   "outputs": [
    {
     "name": "stdout",
     "output_type": "stream",
     "text": [
      "__________________________________________________________________________________________________\n",
      "Layer (type)                    Output Shape         Param #     Connected to                     \n",
      "==================================================================================================\n",
      "Team_1 (InputLayer)             (None, 5)            0                                            \n",
      "__________________________________________________________________________________________________\n",
      "embedding_1 (Embedding)         (None, 5, 32)        4000        Team_1[0][0]                     \n",
      "__________________________________________________________________________________________________\n",
      "lstm_1 (LSTM)                   (None, 32)           8320        embedding_1[0][0]                \n",
      "__________________________________________________________________________________________________\n",
      "dense_6 (Dense)                 (None, 32)           1056        lstm_1[0][0]                     \n",
      "__________________________________________________________________________________________________\n",
      "dense_7 (Dense)                 (None, 32)           1056        lstm_1[0][0]                     \n",
      "__________________________________________________________________________________________________\n",
      "add_2 (Add)                     (None, 32)           0           dense_6[0][0]                    \n",
      "                                                                 dense_7[0][0]                    \n",
      "__________________________________________________________________________________________________\n",
      "dense_8 (Dense)                 (None, 32)           1056        add_2[0][0]                      \n",
      "__________________________________________________________________________________________________\n",
      "dense_9 (Dense)                 (None, 1)            33          dense_8[0][0]                    \n",
      "==================================================================================================\n",
      "Total params: 15,521\n",
      "Trainable params: 15,521\n",
      "Non-trainable params: 0\n",
      "__________________________________________________________________________________________________\n"
     ]
    }
   ],
   "source": [
    "Initializer = tf.keras.initializers.glorot_normal()\n",
    "T_1 = Input(shape=(5,), dtype='int32', name='Team_1')\n",
    "T_2 = Input(shape=(5,), dtype='int32', name='Team_2')\n",
    "\n",
    "Emb = Embedding(input_dim=125, output_dim=32, input_length=5)\n",
    "Emb_T1= Emb(T_1)\n",
    "Emb_T2 = Emb(T_2)\n",
    "\n",
    "LSTM_Team = LSTM(32, input_shape=(1,32))\n",
    "\n",
    "Emb_LSTM_1 = LSTM_Team(Emb_T1)\n",
    "Team_1_FFNN = Dense(32, activation='tanh', kernel_initializer= Initializer)(Emb_LSTM_1)\n",
    "\n",
    "Emb_LSTM_2 = LSTM_Team(Emb_T2)\n",
    "Team_2_FFNN = Dense(32, activation='tanh', kernel_initializer= Initializer)(Emb_LSTM_1)\n",
    "\n",
    "Merged = Add()([Team_1_FFNN, Team_2_FFNN])\n",
    "Layer_1 = Dense(32, activation='tanh', kernel_initializer= Initializer)(Merged)\n",
    "\n",
    "Output = Dense(1, activation='sigmoid')(Layer_1)\n",
    "Model_T = Model(inputs=[T_1, T_2], outputs=Output)\n",
    "Model_T.summary()"
   ]
  },
  {
   "cell_type": "code",
   "execution_count": 17,
   "metadata": {},
   "outputs": [
    {
     "name": "stdout",
     "output_type": "stream",
     "text": [
      "Train on 40000 samples, validate on 10000 samples\n",
      "Epoch 1/5\n",
      "40000/40000 [==============================] - 19s 463us/step - loss: 0.6882 - acc: 0.5360 - val_loss: 0.6818 - val_acc: 0.5634\n",
      "Epoch 2/5\n",
      "40000/40000 [==============================] - 18s 442us/step - loss: 0.6818 - acc: 0.5630 - val_loss: 0.6762 - val_acc: 0.5713\n",
      "Epoch 3/5\n",
      "40000/40000 [==============================] - 16s 394us/step - loss: 0.6803 - acc: 0.5652 - val_loss: 0.6755 - val_acc: 0.5730\n",
      "Epoch 4/5\n",
      "40000/40000 [==============================] - 16s 396us/step - loss: 0.6797 - acc: 0.5686 - val_loss: 0.6764 - val_acc: 0.5747\n",
      "Epoch 5/5\n",
      "40000/40000 [==============================] - 16s 394us/step - loss: 0.6791 - acc: 0.5699 - val_loss: 0.6770 - val_acc: 0.5729\n"
     ]
    }
   ],
   "source": [
    "Batch_Size = 64\n",
    "Model_T.compile(loss = 'binary_crossentropy', optimizer = 'adam', metrics = ['accuracy'])\n",
    "Model_History = Model_T.fit([Training_Team_1, Training_Team_2], Train_L, epochs=5, verbose = 1, batch_size= Batch_Size, validation_data =([Testing_Team_1, Testing_Team_2], Test_L))"
   ]
  },
  {
   "cell_type": "code",
   "execution_count": 18,
   "metadata": {},
   "outputs": [
    {
     "data": {
      "image/png": "[encoded data removed]",
      "text/plain": [
       "<Figure size 432x288 with 1 Axes>"
      ]
     },
     "metadata": {},
     "output_type": "display_data"
    }
   ],
   "source": [
    "pyplot.plot(Model_History.history['loss'], label='train')\n",
    "pyplot.plot(Model_History.history['val_loss'], label='test')\n",
    "pyplot.legend()\n",
    "pyplot.show()"
   ]
  },
  {
   "cell_type": "code",
   "execution_count": 19,
   "metadata": {},
   "outputs": [
    {
     "data": {
      "image/png": "[encoded data removed]",
      "text/plain": [
       "<Figure size 432x288 with 1 Axes>"
      ]
     },
     "metadata": {},
     "output_type": "display_data"
    }
   ],
   "source": [
    "pyplot.plot(Model_History.history['acc'], label='train')\n",
    "pyplot.plot(Model_History.history['val_acc'], label='test')\n",
    "pyplot.legend()\n",
    "pyplot.show()"
   ]
  },
  {
   "cell_type": "markdown",
   "metadata": {},
   "source": [
    "#### Lets see what the latest model has to say on my past match, I had lost this game. I am using the hero lookup table to obtain hero id for all the heroes that were played in this match."
   ]
  },
  {
   "cell_type": "code",
   "execution_count": 20,
   "metadata": {},
   "outputs": [
    {
     "name": "stdout",
     "output_type": "stream",
     "text": [
      "My Team Strength: 49.75258409976959%\n",
      "Enemy Team Strength: 50.24741590023041%\n"
     ]
    }
   ],
   "source": [
    "My_Team = np.asarray([[8, 36, 119, 27, 75]])\n",
    "Enemy_Team = np.asarray([[17, 20, 71, 47, 109]])\n",
    "Draft_Strength = Model_T.predict([My_Team, Enemy_Team], batch_size=None, verbose=0, steps=None)\n",
    "print('My Team Strength: '+ str(Draft_Strength[0][0]*100) + '%')\n",
    "print('Enemy Team Strength: '+ str(100 - Draft_Strength[0][0]*100) + '%')"
   ]
  }
 ],
 "metadata": {
  "kernelspec": {
   "display_name": "Python 3",
   "language": "python",
   "name": "python3"
  },
  "language_info": {
   "codemirror_mode": {
    "name": "ipython",
    "version": 3
   },
   "file_extension": ".py",
   "mimetype": "text/x-python",
   "name": "python",
   "nbconvert_exporter": "python",
   "pygments_lexer": "ipython3",
   "version": "3.5.5"
  }
 },
 "nbformat": 4,
 "nbformat_minor": 2
}
