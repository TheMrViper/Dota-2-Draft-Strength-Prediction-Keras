{
 "cells": [
  {
   "cell_type": "markdown",
   "metadata": {},
   "source": [
    "### Predicting Dota 2 Draft Strength Using Keras. "
   ]
  },
  {
   "cell_type": "markdown",
   "metadata": {},
   "source": [
    "#### Using Hero as Input we will try to predict which team has a better draft."
   ]
  },
  {
   "cell_type": "markdown",
   "metadata": {},
   "source": [
    "#### Loading Libraries."
   ]
  },
  {
   "cell_type": "code",
   "execution_count": 1,
   "metadata": {},
   "outputs": [
    {
     "name": "stderr",
     "output_type": "stream",
     "text": [
      "C:\\ProgramData\\Anaconda3\\lib\\site-packages\\h5py\\__init__.py:36: FutureWarning: Conversion of the second argument of issubdtype from `float` to `np.floating` is deprecated. In future, it will be treated as `np.float64 == np.dtype(float).type`.\n",
      "  from ._conv import register_converters as _register_converters\n"
     ]
    }
   ],
   "source": [
    "import pandas as pd\n",
    "import numpy as np\n",
    "import tensorflow as tf\n",
    "from tensorflow.python.keras.layers import Input, Dense, Activation, Add, LSTM, Embedding\n",
    "from tensorflow.python.keras.models import Model\n",
    "from matplotlib import pyplot\n",
    "import warnings; warnings.simplefilter('ignore')\n",
    "tf.reset_default_graph()"
   ]
  },
  {
   "cell_type": "markdown",
   "metadata": {},
   "source": [
    "#### Import Data as Pandas Dataframe Object."
   ]
  },
  {
   "cell_type": "code",
   "execution_count": 2,
   "metadata": {},
   "outputs": [],
   "source": [
    "Dota_2_DF = pd.read_csv('Dota_2_Cleaned_Data.csv')\n",
    "Dota_2_DF_Label = pd.read_csv('Dota_2_Model_Data.csv')"
   ]
  },
  {
   "cell_type": "code",
   "execution_count": 3,
   "metadata": {},
   "outputs": [
    {
     "name": "stdout",
     "output_type": "stream",
     "text": [
      "(108800, 17)\n",
      "(544000, 18)\n"
     ]
    }
   ],
   "source": [
    "print(Dota_2_DF_Label.shape)\n",
    "print(Dota_2_DF.shape)"
   ]
  },
  {
   "cell_type": "markdown",
   "metadata": {},
   "source": [
    "#### View Dataframe."
   ]
  },
  {
   "cell_type": "code",
   "execution_count": 4,
   "metadata": {},
   "outputs": [
    {
     "data": {
      "text/html": [
       "<div>\n",
       "<style scoped>\n",
       "    .dataframe tbody tr th:only-of-type {\n",
       "        vertical-align: middle;\n",
       "    }\n",
       "\n",
       "    .dataframe tbody tr th {\n",
       "        vertical-align: top;\n",
       "    }\n",
       "\n",
       "    .dataframe thead th {\n",
       "        text-align: right;\n",
       "    }\n",
       "</style>\n",
       "<table border=\"1\" class=\"dataframe\">\n",
       "  <thead>\n",
       "    <tr style=\"text-align: right;\">\n",
       "      <th></th>\n",
       "      <th>Unnamed: 0</th>\n",
       "      <th>Hero_1</th>\n",
       "      <th>Hero_2</th>\n",
       "      <th>Hero_3</th>\n",
       "      <th>Hero_4</th>\n",
       "      <th>Hero_5</th>\n",
       "      <th>Kills</th>\n",
       "      <th>Deaths</th>\n",
       "      <th>Assists</th>\n",
       "      <th>Last_Hits</th>\n",
       "      <th>Denies</th>\n",
       "      <th>GPM</th>\n",
       "      <th>XPM</th>\n",
       "      <th>Networth</th>\n",
       "      <th>XP</th>\n",
       "      <th>Win/Loss</th>\n",
       "      <th>Duration</th>\n",
       "    </tr>\n",
       "  </thead>\n",
       "  <tbody>\n",
       "    <tr>\n",
       "      <th>0</th>\n",
       "      <td>0</td>\n",
       "      <td>34</td>\n",
       "      <td>63</td>\n",
       "      <td>83</td>\n",
       "      <td>67</td>\n",
       "      <td>97</td>\n",
       "      <td>39</td>\n",
       "      <td>48</td>\n",
       "      <td>79</td>\n",
       "      <td>1499</td>\n",
       "      <td>17</td>\n",
       "      <td>2312</td>\n",
       "      <td>2824</td>\n",
       "      <td>122085</td>\n",
       "      <td>181281</td>\n",
       "      <td>5</td>\n",
       "      <td>3647</td>\n",
       "    </tr>\n",
       "  </tbody>\n",
       "</table>\n",
       "</div>"
      ],
      "text/plain": [
       "   Unnamed: 0  Hero_1  Hero_2  Hero_3  Hero_4  Hero_5  Kills  Deaths  Assists  \\\n",
       "0           0      34      63      83      67      97     39      48       79   \n",
       "\n",
       "   Last_Hits  Denies   GPM   XPM  Networth      XP  Win/Loss  Duration  \n",
       "0       1499      17  2312  2824    122085  181281         5      3647  "
      ]
     },
     "execution_count": 4,
     "metadata": {},
     "output_type": "execute_result"
    }
   ],
   "source": [
    "Dota_2_DF_Label.head(1)"
   ]
  },
  {
   "cell_type": "code",
   "execution_count": 5,
   "metadata": {},
   "outputs": [
    {
     "data": {
      "text/html": [
       "<div>\n",
       "<style scoped>\n",
       "    .dataframe tbody tr th:only-of-type {\n",
       "        vertical-align: middle;\n",
       "    }\n",
       "\n",
       "    .dataframe tbody tr th {\n",
       "        vertical-align: top;\n",
       "    }\n",
       "\n",
       "    .dataframe thead th {\n",
       "        text-align: right;\n",
       "    }\n",
       "</style>\n",
       "<table border=\"1\" class=\"dataframe\">\n",
       "  <thead>\n",
       "    <tr style=\"text-align: right;\">\n",
       "      <th></th>\n",
       "      <th>Unnamed: 0</th>\n",
       "      <th>Hero_ID</th>\n",
       "      <th>Hero_ID_2</th>\n",
       "      <th>Kills</th>\n",
       "      <th>Deaths</th>\n",
       "      <th>Assists</th>\n",
       "      <th>Available_Gold</th>\n",
       "      <th>Last_Hits</th>\n",
       "      <th>Denies</th>\n",
       "      <th>GPM</th>\n",
       "      <th>XPM</th>\n",
       "      <th>Networth</th>\n",
       "      <th>XP</th>\n",
       "      <th>Stat_1</th>\n",
       "      <th>MVP_Votes</th>\n",
       "      <th>Duration</th>\n",
       "      <th>Win/Loss</th>\n",
       "      <th>Match_ID</th>\n",
       "    </tr>\n",
       "  </thead>\n",
       "  <tbody>\n",
       "    <tr>\n",
       "      <th>0</th>\n",
       "      <td>0</td>\n",
       "      <td>34</td>\n",
       "      <td>34</td>\n",
       "      <td>5</td>\n",
       "      <td>10</td>\n",
       "      <td>16</td>\n",
       "      <td>6859</td>\n",
       "      <td>474</td>\n",
       "      <td>3</td>\n",
       "      <td>549</td>\n",
       "      <td>558</td>\n",
       "      <td>26655</td>\n",
       "      <td>45146</td>\n",
       "      <td>41</td>\n",
       "      <td>0</td>\n",
       "      <td>3647</td>\n",
       "      <td>1</td>\n",
       "      <td>0</td>\n",
       "    </tr>\n",
       "  </tbody>\n",
       "</table>\n",
       "</div>"
      ],
      "text/plain": [
       "   Unnamed: 0  Hero_ID  Hero_ID_2  Kills  Deaths  Assists  Available_Gold  \\\n",
       "0           0       34         34      5      10       16            6859   \n",
       "\n",
       "   Last_Hits  Denies  GPM  XPM  Networth     XP  Stat_1  MVP_Votes  Duration  \\\n",
       "0        474       3  549  558     26655  45146      41          0      3647   \n",
       "\n",
       "   Win/Loss  Match_ID  \n",
       "0         1         0  "
      ]
     },
     "execution_count": 5,
     "metadata": {},
     "output_type": "execute_result"
    }
   ],
   "source": [
    "Dota_2_DF.head(1)"
   ]
  },
  {
   "cell_type": "markdown",
   "metadata": {},
   "source": [
    "#### Taking 50000 matches data and defining model variables and label."
   ]
  },
  {
   "cell_type": "code",
   "execution_count": 6,
   "metadata": {},
   "outputs": [],
   "source": [
    "Label_Data = Dota_2_DF_Label.iloc[::2]\n",
    "Dota_2_DF = Dota_2_DF.head(500000)\n",
    "Label_Data = Label_Data.head(50000)['Win/Loss']\n",
    "Label_Data = Label_Data.values\n",
    "Label_Data[Label_Data >= 1] = 1"
   ]
  },
  {
   "cell_type": "markdown",
   "metadata": {},
   "source": [
    "#### Taking ID for every Hero in respective variable, where Hero_1 to Hero_5 is Team 1 and Hero_6 to Hero_10 is Team 2\n"
   ]
  },
  {
   "cell_type": "code",
   "execution_count": 7,
   "metadata": {},
   "outputs": [],
   "source": [
    "Hero_1 = Dota_2_DF.iloc[::10, :]['Hero_ID']\n",
    "Hero_1 = Hero_1.values\n",
    "Hero_2 = Dota_2_DF.iloc[1::10, :]['Hero_ID']\n",
    "Hero_2 = Hero_2.values\n",
    "Hero_3 = Dota_2_DF.iloc[2::10, :]['Hero_ID']\n",
    "Hero_3 = Hero_3.values\n",
    "Hero_4 = Dota_2_DF.iloc[3::10, :]['Hero_ID']\n",
    "Hero_4 = Hero_4.values\n",
    "Hero_5 = Dota_2_DF.iloc[4::10, :]['Hero_ID']\n",
    "Hero_5 = Hero_5.values\n",
    "Hero_6 = Dota_2_DF.iloc[5::10, :]['Hero_ID']\n",
    "Hero_6 = Hero_6.values\n",
    "Hero_7 = Dota_2_DF.iloc[6::10, :]['Hero_ID']\n",
    "Hero_7 = Hero_7.values\n",
    "Hero_8 = Dota_2_DF.iloc[7::10, :]['Hero_ID']\n",
    "Hero_8 = Hero_8.values\n",
    "Hero_9 = Dota_2_DF.iloc[8::10, :]['Hero_ID']\n",
    "Hero_9 = Hero_9.values\n",
    "Hero_10 = Dota_2_DF.iloc[9::10, :]['Hero_ID']\n",
    "Hero_10 = Hero_10.values"
   ]
  },
  {
   "cell_type": "markdown",
   "metadata": {},
   "source": [
    "#### Shuffling the entire dataset to disrupt the order of matches according to time to prevent any bias."
   ]
  },
  {
   "cell_type": "markdown",
   "metadata": {},
   "source": [
    "#### As the dataset has recorded all matches between a duration of an hour and we need our model to have data for any time and not skewed towards the eary or later part of the hour."
   ]
  },
  {
   "cell_type": "code",
   "execution_count": 8,
   "metadata": {},
   "outputs": [],
   "source": [
    "Permutation = np.random.permutation(Hero_1.shape[0])\n",
    "Hero_1 = Hero_1[Permutation]\n",
    "Hero_2 = Hero_2[Permutation]\n",
    "Hero_3 = Hero_3[Permutation]\n",
    "Hero_4 = Hero_4[Permutation]\n",
    "Hero_5 = Hero_5[Permutation]\n",
    "Hero_6 = Hero_6[Permutation]\n",
    "Hero_7 = Hero_7[Permutation]\n",
    "Hero_8 = Hero_8[Permutation]\n",
    "Hero_9 = Hero_9[Permutation]\n",
    "Hero_10 = Hero_10[Permutation]\n",
    "Label_Data = Label_Data[Permutation]"
   ]
  },
  {
   "cell_type": "markdown",
   "metadata": {},
   "source": [
    "#### Training & Testing Data - Hero ID."
   ]
  },
  {
   "cell_type": "code",
   "execution_count": 9,
   "metadata": {},
   "outputs": [
    {
     "name": "stdout",
     "output_type": "stream",
     "text": [
      "[18 74 46 21 35]\n",
      "[ 7 67  8  6  9]\n",
      "[0 1 0 0 1]\n",
      "[0 0 1 1 0]\n"
     ]
    }
   ],
   "source": [
    "Hero_1_Tr = Hero_1[0:40000]\n",
    "Hero_2_Tr = Hero_2[0:40000]\n",
    "Hero_3_Tr = Hero_3[0:40000]\n",
    "Hero_4_Tr = Hero_4[0:40000]\n",
    "Hero_5_Tr = Hero_5[0:40000]\n",
    "Hero_6_Tr = Hero_6[0:40000]\n",
    "Hero_7_Tr = Hero_7[0:40000]\n",
    "Hero_8_Tr = Hero_8[0:40000]\n",
    "Hero_9_Tr = Hero_9[0:40000]\n",
    "Hero_10_Tr = Hero_10[0:40000]\n",
    "Train_L = Label_Data[0:40000]\n",
    "\n",
    "Hero_1_Ts = Hero_1[40000:]\n",
    "Hero_2_Ts = Hero_2[40000:]\n",
    "Hero_3_Ts = Hero_3[40000:]\n",
    "Hero_4_Ts = Hero_4[40000:]\n",
    "Hero_5_Ts = Hero_5[40000:]\n",
    "Hero_6_Ts = Hero_6[40000:]\n",
    "Hero_7_Ts = Hero_7[40000:]\n",
    "Hero_8_Ts = Hero_8[40000:]\n",
    "Hero_9_Ts = Hero_9[40000:]\n",
    "Hero_10_Ts = Hero_10[40000:]\n",
    "Test_L = Label_Data[40000:]\n",
    "\n",
    "print(Hero_1_Tr[0:5])\n",
    "print(Hero_1_Ts[0:5])\n",
    "print(Train_L[0:5])\n",
    "print(Test_L[0:5])"
   ]
  },
  {
   "cell_type": "markdown",
   "metadata": {},
   "source": [
    "#### Label = 1, means First 5 Heroes lineup won. Label = 0, means Last 5 Heroes lineup won."
   ]
  },
  {
   "cell_type": "markdown",
   "metadata": {},
   "source": [
    "### Hero Input Feed Forward Network Model."
   ]
  },
  {
   "cell_type": "code",
   "execution_count": 10,
   "metadata": {},
   "outputs": [
    {
     "name": "stdout",
     "output_type": "stream",
     "text": [
      "__________________________________________________________________________________________________\n",
      "Layer (type)                    Output Shape         Param #     Connected to                     \n",
      "==================================================================================================\n",
      "input_1 (InputLayer)            (None, 1)            0                                            \n",
      "__________________________________________________________________________________________________\n",
      "input_2 (InputLayer)            (None, 1)            0                                            \n",
      "__________________________________________________________________________________________________\n",
      "input_3 (InputLayer)            (None, 1)            0                                            \n",
      "__________________________________________________________________________________________________\n",
      "input_4 (InputLayer)            (None, 1)            0                                            \n",
      "__________________________________________________________________________________________________\n",
      "input_5 (InputLayer)            (None, 1)            0                                            \n",
      "__________________________________________________________________________________________________\n",
      "input_6 (InputLayer)            (None, 1)            0                                            \n",
      "__________________________________________________________________________________________________\n",
      "input_7 (InputLayer)            (None, 1)            0                                            \n",
      "__________________________________________________________________________________________________\n",
      "input_8 (InputLayer)            (None, 1)            0                                            \n",
      "__________________________________________________________________________________________________\n",
      "input_9 (InputLayer)            (None, 1)            0                                            \n",
      "__________________________________________________________________________________________________\n",
      "input_10 (InputLayer)           (None, 1)            0                                            \n",
      "__________________________________________________________________________________________________\n",
      "dense (Dense)                   (None, 16)           32          input_1[0][0]                    \n",
      "__________________________________________________________________________________________________\n",
      "dense_1 (Dense)                 (None, 16)           32          input_2[0][0]                    \n",
      "__________________________________________________________________________________________________\n",
      "dense_2 (Dense)                 (None, 16)           32          input_3[0][0]                    \n",
      "__________________________________________________________________________________________________\n",
      "dense_3 (Dense)                 (None, 16)           32          input_4[0][0]                    \n",
      "__________________________________________________________________________________________________\n",
      "dense_4 (Dense)                 (None, 16)           32          input_5[0][0]                    \n",
      "__________________________________________________________________________________________________\n",
      "dense_5 (Dense)                 (None, 16)           32          input_6[0][0]                    \n",
      "__________________________________________________________________________________________________\n",
      "dense_6 (Dense)                 (None, 16)           32          input_7[0][0]                    \n",
      "__________________________________________________________________________________________________\n",
      "dense_7 (Dense)                 (None, 16)           32          input_8[0][0]                    \n",
      "__________________________________________________________________________________________________\n",
      "dense_8 (Dense)                 (None, 16)           32          input_9[0][0]                    \n",
      "__________________________________________________________________________________________________\n",
      "dense_9 (Dense)                 (None, 16)           32          input_10[0][0]                   \n",
      "__________________________________________________________________________________________________\n",
      "add (Add)                       (None, 16)           0           dense[0][0]                      \n",
      "                                                                 dense_1[0][0]                    \n",
      "                                                                 dense_2[0][0]                    \n",
      "                                                                 dense_3[0][0]                    \n",
      "                                                                 dense_4[0][0]                    \n",
      "__________________________________________________________________________________________________\n",
      "add_1 (Add)                     (None, 16)           0           dense_5[0][0]                    \n",
      "                                                                 dense_6[0][0]                    \n",
      "                                                                 dense_7[0][0]                    \n",
      "                                                                 dense_8[0][0]                    \n",
      "                                                                 dense_9[0][0]                    \n",
      "__________________________________________________________________________________________________\n",
      "add_2 (Add)                     (None, 16)           0           add[0][0]                        \n",
      "                                                                 add_1[0][0]                      \n",
      "__________________________________________________________________________________________________\n",
      "dense_10 (Dense)                (None, 16)           272         add_2[0][0]                      \n",
      "__________________________________________________________________________________________________\n",
      "dense_11 (Dense)                (None, 1)            17          dense_10[0][0]                   \n",
      "==================================================================================================\n",
      "Total params: 609\n",
      "Trainable params: 609\n",
      "Non-trainable params: 0\n",
      "__________________________________________________________________________________________________\n"
     ]
    }
   ],
   "source": [
    "Initializer = tf.keras.initializers.glorot_normal()\n",
    "\n",
    "H_1 = Input(shape=(1,))\n",
    "Hero_1 = Dense(16, activation='tanh', kernel_initializer= Initializer)(H_1)\n",
    "H_2 = Input(shape=(1,))\n",
    "Hero_2 = Dense(16, activation='tanh', kernel_initializer= Initializer)(H_2)\n",
    "H_3 = Input(shape=(1,))\n",
    "Hero_3 = Dense(16, activation='tanh', kernel_initializer= Initializer)(H_3)\n",
    "H_4 = Input(shape=(1,))\n",
    "Hero_4 = Dense(16, activation='tanh', kernel_initializer= Initializer)(H_4)\n",
    "H_5 = Input(shape=(1,))\n",
    "Hero_5 = Dense(16, activation='tanh', kernel_initializer= Initializer)(H_5)\n",
    "H_6 = Input(shape=(1,))\n",
    "Hero_6 = Dense(16, activation='tanh', kernel_initializer= Initializer)(H_6)\n",
    "H_7 = Input(shape=(1,))\n",
    "Hero_7 = Dense(16, activation='tanh', kernel_initializer= Initializer)(H_7)\n",
    "H_8 = Input(shape=(1,))\n",
    "Hero_8 = Dense(16, activation='tanh', kernel_initializer= Initializer)(H_8)\n",
    "H_9 = Input(shape=(1,))\n",
    "Hero_9 = Dense(16, activation='tanh', kernel_initializer= Initializer)(H_9)\n",
    "H_10 = Input(shape=(1,))\n",
    "Hero_10 = Dense(16, activation='tanh', kernel_initializer= Initializer)(H_10)\n",
    "\n",
    "Team_1 = Add()([Hero_1, Hero_2, Hero_3, Hero_4, Hero_5])\n",
    "Team_2 = Add()([Hero_6, Hero_7, Hero_8, Hero_9, Hero_10])\n",
    "\n",
    "Merged = Add()([Team_1, Team_2])\n",
    "Layer_1 = Dense(16, activation='tanh', kernel_initializer= Initializer)(Merged)\n",
    "\n",
    "Output = Dense(1, activation='sigmoid', kernel_initializer= Initializer)(Layer_1)\n",
    "Model_T = Model(inputs=[H_1, H_2, H_3, H_4, H_5, H_6, H_7, H_8, H_9, H_10], outputs=Output)\n",
    "Model_T.summary()"
   ]
  },
  {
   "cell_type": "code",
   "execution_count": 11,
   "metadata": {},
   "outputs": [
    {
     "name": "stdout",
     "output_type": "stream",
     "text": [
      "Train on 40000 samples, validate on 10000 samples\n",
      "Epoch 1/5\n",
      "40000/40000 [==============================] - 7s 172us/step - loss: 0.7002 - acc: 0.5130 - val_loss: 0.6922 - val_acc: 0.5237\n",
      "Epoch 2/5\n",
      "40000/40000 [==============================] - 2s 54us/step - loss: 0.6925 - acc: 0.5216 - val_loss: 0.6911 - val_acc: 0.5235\n",
      "Epoch 3/5\n",
      "40000/40000 [==============================] - 2s 52us/step - loss: 0.6916 - acc: 0.5245 - val_loss: 0.6906 - val_acc: 0.5266\n",
      "Epoch 4/5\n",
      "40000/40000 [==============================] - 2s 52us/step - loss: 0.6915 - acc: 0.5259 - val_loss: 0.6908 - val_acc: 0.5275\n",
      "Epoch 5/5\n",
      "40000/40000 [==============================] - 2s 50us/step - loss: 0.6915 - acc: 0.5241 - val_loss: 0.6906 - val_acc: 0.5281\n"
     ]
    }
   ],
   "source": [
    "Batch_Size = 256\n",
    "Model_T.compile(loss = 'binary_crossentropy', optimizer = 'adam', metrics = ['accuracy'])\n",
    "Model_History = Model_T.fit([Hero_1_Tr, Hero_2_Tr, Hero_3_Tr, Hero_4_Tr, Hero_5_Tr, Hero_6_Tr, Hero_7_Tr, Hero_8_Tr, Hero_9_Tr, Hero_10_Tr], Train_L, epochs=5, verbose = 1, batch_size= Batch_Size, validation_data =([Hero_1_Ts, Hero_2_Ts, Hero_3_Ts, Hero_4_Ts, Hero_5_Ts, Hero_6_Ts, Hero_7_Ts, Hero_8_Ts, Hero_9_Ts, Hero_10_Ts], Test_L))"
   ]
  },
  {
   "cell_type": "code",
   "execution_count": 12,
   "metadata": {},
   "outputs": [
    {
     "data": {
      "image/png": "[encoded data removed]",
      "text/plain": [
       "<Figure size 432x288 with 1 Axes>"
      ]
     },
     "metadata": {},
     "output_type": "display_data"
    }
   ],
   "source": [
    "pyplot.plot(Model_History.history['loss'], label='train')\n",
    "pyplot.plot(Model_History.history['val_loss'], label='test')\n",
    "pyplot.legend()\n",
    "pyplot.show()"
   ]
  },
  {
   "cell_type": "code",
   "execution_count": 13,
   "metadata": {},
   "outputs": [
    {
     "data": {
      "image/png": "[encoded data removed]",
      "text/plain": [
       "<Figure size 432x288 with 1 Axes>"
      ]
     },
     "metadata": {},
     "output_type": "display_data"
    }
   ],
   "source": [
    "pyplot.plot(Model_History.history['acc'], label='train')\n",
    "pyplot.plot(Model_History.history['val_acc'], label='test')\n",
    "pyplot.legend()\n",
    "pyplot.show()"
   ]
  },
  {
   "cell_type": "markdown",
   "metadata": {},
   "source": [
    "### Hero Input Long Short Term Memory Network."
   ]
  },
  {
   "cell_type": "code",
   "execution_count": 14,
   "metadata": {},
   "outputs": [
    {
     "name": "stdout",
     "output_type": "stream",
     "text": [
      "__________________________________________________________________________________________________\n",
      "Layer (type)                    Output Shape         Param #     Connected to                     \n",
      "==================================================================================================\n",
      "Hero_1 (InputLayer)             (None, 1)            0                                            \n",
      "__________________________________________________________________________________________________\n",
      "Hero_2 (InputLayer)             (None, 1)            0                                            \n",
      "__________________________________________________________________________________________________\n",
      "Hero_3 (InputLayer)             (None, 1)            0                                            \n",
      "__________________________________________________________________________________________________\n",
      "Hero_4 (InputLayer)             (None, 1)            0                                            \n",
      "__________________________________________________________________________________________________\n",
      "Hero_5 (InputLayer)             (None, 1)            0                                            \n",
      "__________________________________________________________________________________________________\n",
      "Hero_6 (InputLayer)             (None, 1)            0                                            \n",
      "__________________________________________________________________________________________________\n",
      "Hero_7 (InputLayer)             (None, 1)            0                                            \n",
      "__________________________________________________________________________________________________\n",
      "Hero_8 (InputLayer)             (None, 1)            0                                            \n",
      "__________________________________________________________________________________________________\n",
      "Hero_9 (InputLayer)             (None, 1)            0                                            \n",
      "__________________________________________________________________________________________________\n",
      "Hero_10 (InputLayer)            (None, 1)            0                                            \n",
      "__________________________________________________________________________________________________\n",
      "embedding (Embedding)           (None, 1, 16)        2000        Hero_1[0][0]                     \n",
      "                                                                 Hero_2[0][0]                     \n",
      "                                                                 Hero_3[0][0]                     \n",
      "                                                                 Hero_4[0][0]                     \n",
      "                                                                 Hero_5[0][0]                     \n",
      "                                                                 Hero_6[0][0]                     \n",
      "                                                                 Hero_7[0][0]                     \n",
      "                                                                 Hero_8[0][0]                     \n",
      "                                                                 Hero_9[0][0]                     \n",
      "                                                                 Hero_10[0][0]                    \n",
      "__________________________________________________________________________________________________\n",
      "lstm (LSTM)                     (None, 16)           2112        embedding[0][0]                  \n",
      "                                                                 embedding[1][0]                  \n",
      "                                                                 embedding[2][0]                  \n",
      "                                                                 embedding[3][0]                  \n",
      "                                                                 embedding[4][0]                  \n",
      "                                                                 embedding[5][0]                  \n",
      "                                                                 embedding[6][0]                  \n",
      "                                                                 embedding[7][0]                  \n",
      "                                                                 embedding[8][0]                  \n",
      "                                                                 embedding[9][0]                  \n",
      "__________________________________________________________________________________________________\n",
      "add_3 (Add)                     (None, 16)           0           lstm[0][0]                       \n",
      "                                                                 lstm[1][0]                       \n",
      "                                                                 lstm[2][0]                       \n",
      "                                                                 lstm[3][0]                       \n",
      "                                                                 lstm[4][0]                       \n",
      "__________________________________________________________________________________________________\n",
      "add_4 (Add)                     (None, 16)           0           lstm[5][0]                       \n",
      "                                                                 lstm[6][0]                       \n",
      "                                                                 lstm[7][0]                       \n",
      "                                                                 lstm[8][0]                       \n",
      "                                                                 lstm[9][0]                       \n",
      "__________________________________________________________________________________________________\n",
      "add_5 (Add)                     (None, 16)           0           add_3[0][0]                      \n",
      "                                                                 add_4[0][0]                      \n",
      "__________________________________________________________________________________________________\n",
      "dense_12 (Dense)                (None, 16)           272         add_5[0][0]                      \n",
      "__________________________________________________________________________________________________\n",
      "dense_13 (Dense)                (None, 1)            17          dense_12[0][0]                   \n",
      "==================================================================================================\n",
      "Total params: 4,401\n",
      "Trainable params: 4,401\n",
      "Non-trainable params: 0\n",
      "__________________________________________________________________________________________________\n"
     ]
    }
   ],
   "source": [
    "Initializer = tf.keras.initializers.glorot_normal()\n",
    "\n",
    "Hero_1_ = Input(shape=(1,), dtype='int32', name='Hero_1')\n",
    "Hero_2_ = Input(shape=(1,), dtype='int32', name='Hero_2')\n",
    "Hero_3_ = Input(shape=(1,), dtype='int32', name='Hero_3')\n",
    "Hero_4_ = Input(shape=(1,), dtype='int32', name='Hero_4')\n",
    "Hero_5_ = Input(shape=(1,), dtype='int32', name='Hero_5')\n",
    "Hero_6_ = Input(shape=(1,), dtype='int32', name='Hero_6')\n",
    "Hero_7_ = Input(shape=(1,), dtype='int32', name='Hero_7')\n",
    "Hero_8_ = Input(shape=(1,), dtype='int32', name='Hero_8')\n",
    "Hero_9_ = Input(shape=(1,), dtype='int32', name='Hero_9')\n",
    "Hero_10_ = Input(shape=(1,), dtype='int32', name='Hero_10')\n",
    "\n",
    "Emb = Embedding(input_dim=125, output_dim=16, input_length=1)\n",
    "Emb_H1= Emb(Hero_1_)\n",
    "Emb_H2 = Emb(Hero_2_)\n",
    "Emb_H3 = Emb(Hero_3_)\n",
    "Emb_H4 = Emb(Hero_4_)\n",
    "Emb_H5 = Emb(Hero_5_)\n",
    "Emb_H6 = Emb(Hero_6_)\n",
    "Emb_H7 = Emb(Hero_7_)\n",
    "Emb_H8 = Emb(Hero_8_)\n",
    "Emb_H9 = Emb(Hero_9_)\n",
    "Emb_H10 = Emb(Hero_10_)\n",
    "\n",
    "LSTM_Heroes = LSTM(16, input_shape=(1,16))\n",
    "\n",
    "Emb_LSTM_1 = LSTM_Heroes(Emb_H1)\n",
    "Emb_LSTM_2 = LSTM_Heroes(Emb_H2)\n",
    "Emb_LSTM_3 = LSTM_Heroes(Emb_H3)\n",
    "Emb_LSTM_4 = LSTM_Heroes(Emb_H4)\n",
    "Emb_LSTM_5 = LSTM_Heroes(Emb_H5)\n",
    "Emb_LSTM_6 = LSTM_Heroes(Emb_H6)\n",
    "Emb_LSTM_7 = LSTM_Heroes(Emb_H7)\n",
    "Emb_LSTM_8 = LSTM_Heroes(Emb_H8)\n",
    "Emb_LSTM_9 = LSTM_Heroes(Emb_H9)\n",
    "Emb_LSTM_10 = LSTM_Heroes(Emb_H10)\n",
    "\n",
    "Team_1 = Add()([Emb_LSTM_1, Emb_LSTM_2, Emb_LSTM_3, Emb_LSTM_4, Emb_LSTM_5])\n",
    "Team_2 = Add()([Emb_LSTM_6, Emb_LSTM_7, Emb_LSTM_8, Emb_LSTM_9, Emb_LSTM_10])\n",
    "\n",
    "Merged = Add()([Team_1, Team_2])\n",
    "Layer_1 = Dense(16, activation='tanh', kernel_initializer= Initializer)(Merged)\n",
    "\n",
    "Output = Dense(1, activation='sigmoid')(Layer_1)\n",
    "Model_T = Model(inputs=[Hero_1_, Hero_2_, Hero_3_, Hero_4_, Hero_5_, Hero_6_, Hero_7_, Hero_8_, Hero_9_, Hero_10_], outputs=[Output])\n",
    "Model_T.summary()"
   ]
  },
  {
   "cell_type": "code",
   "execution_count": 15,
   "metadata": {},
   "outputs": [
    {
     "name": "stdout",
     "output_type": "stream",
     "text": [
      "Train on 40000 samples, validate on 10000 samples\n",
      "Epoch 1/5\n",
      "40000/40000 [==============================] - 22s 549us/step - loss: 0.6929 - acc: 0.5179 - val_loss: 0.6927 - val_acc: 0.5260\n",
      "Epoch 2/5\n",
      "40000/40000 [==============================] - 7s 175us/step - loss: 0.6922 - acc: 0.5190 - val_loss: 0.6927 - val_acc: 0.5258\n",
      "Epoch 3/5\n",
      "40000/40000 [==============================] - 7s 176us/step - loss: 0.6923 - acc: 0.5220 - val_loss: 0.6924 - val_acc: 0.5259\n",
      "Epoch 4/5\n",
      "40000/40000 [==============================] - 7s 174us/step - loss: 0.6919 - acc: 0.5244 - val_loss: 0.6924 - val_acc: 0.5257\n",
      "Epoch 5/5\n",
      "40000/40000 [==============================] - 7s 177us/step - loss: 0.6917 - acc: 0.5258 - val_loss: 0.6926 - val_acc: 0.5249\n"
     ]
    }
   ],
   "source": [
    "Batch_Size = 256\n",
    "Model_T.compile(loss = 'binary_crossentropy', optimizer = 'adam', metrics = ['accuracy'])\n",
    "Model_History = Model_T.fit([Hero_1_Tr, Hero_2_Tr, Hero_3_Tr, Hero_4_Tr, Hero_5_Tr, Hero_6_Tr, Hero_7_Tr, Hero_8_Tr, Hero_9_Tr, Hero_10_Tr], Train_L, epochs=5, verbose = 1, batch_size= Batch_Size, validation_data =([Hero_1_Ts, Hero_2_Ts, Hero_3_Ts, Hero_4_Ts, Hero_5_Ts, Hero_6_Ts, Hero_7_Ts, Hero_8_Ts, Hero_9_Ts, Hero_10_Ts], Test_L))"
   ]
  },
  {
   "cell_type": "code",
   "execution_count": 16,
   "metadata": {},
   "outputs": [
    {
     "data": {
      "image/png": "[encoded data removed]",
      "text/plain": [
       "<Figure size 432x288 with 1 Axes>"
      ]
     },
     "metadata": {},
     "output_type": "display_data"
    }
   ],
   "source": [
    "pyplot.plot(Model_History.history['loss'], label='train')\n",
    "pyplot.plot(Model_History.history['val_loss'], label='test')\n",
    "pyplot.legend()\n",
    "pyplot.show()"
   ]
  },
  {
   "cell_type": "code",
   "execution_count": 17,
   "metadata": {},
   "outputs": [
    {
     "data": {
      "image/png": "[encoded data removed]",
      "text/plain": [
       "<Figure size 432x288 with 1 Axes>"
      ]
     },
     "metadata": {},
     "output_type": "display_data"
    }
   ],
   "source": [
    "pyplot.plot(Model_History.history['acc'], label='train')\n",
    "pyplot.plot(Model_History.history['val_acc'], label='test')\n",
    "pyplot.legend()\n",
    "pyplot.show()"
   ]
  },
  {
   "cell_type": "markdown",
   "metadata": {},
   "source": [
    "### Hero Input Long Short Term Memory Network with Feed Forward Network."
   ]
  },
  {
   "cell_type": "code",
   "execution_count": 18,
   "metadata": {},
   "outputs": [
    {
     "name": "stdout",
     "output_type": "stream",
     "text": [
      "__________________________________________________________________________________________________\n",
      "Layer (type)                    Output Shape         Param #     Connected to                     \n",
      "==================================================================================================\n",
      "Hero_1 (InputLayer)             (None, 1)            0                                            \n",
      "__________________________________________________________________________________________________\n",
      "Hero_2 (InputLayer)             (None, 1)            0                                            \n",
      "__________________________________________________________________________________________________\n",
      "Hero_3 (InputLayer)             (None, 1)            0                                            \n",
      "__________________________________________________________________________________________________\n",
      "Hero_4 (InputLayer)             (None, 1)            0                                            \n",
      "__________________________________________________________________________________________________\n",
      "Hero_5 (InputLayer)             (None, 1)            0                                            \n",
      "__________________________________________________________________________________________________\n",
      "Hero_6 (InputLayer)             (None, 1)            0                                            \n",
      "__________________________________________________________________________________________________\n",
      "Hero_7 (InputLayer)             (None, 1)            0                                            \n",
      "__________________________________________________________________________________________________\n",
      "Hero_8 (InputLayer)             (None, 1)            0                                            \n",
      "__________________________________________________________________________________________________\n",
      "Hero_9 (InputLayer)             (None, 1)            0                                            \n",
      "__________________________________________________________________________________________________\n",
      "Hero_10 (InputLayer)            (None, 1)            0                                            \n",
      "__________________________________________________________________________________________________\n",
      "embedding_1 (Embedding)         (None, 1, 16)        2000        Hero_1[0][0]                     \n",
      "                                                                 Hero_2[0][0]                     \n",
      "                                                                 Hero_3[0][0]                     \n",
      "                                                                 Hero_4[0][0]                     \n",
      "                                                                 Hero_5[0][0]                     \n",
      "                                                                 Hero_6[0][0]                     \n",
      "                                                                 Hero_7[0][0]                     \n",
      "                                                                 Hero_8[0][0]                     \n",
      "                                                                 Hero_9[0][0]                     \n",
      "                                                                 Hero_10[0][0]                    \n",
      "__________________________________________________________________________________________________\n",
      "lstm_1 (LSTM)                   (None, 16)           2112        embedding_1[0][0]                \n",
      "                                                                 embedding_1[1][0]                \n",
      "                                                                 embedding_1[2][0]                \n",
      "                                                                 embedding_1[3][0]                \n",
      "                                                                 embedding_1[4][0]                \n",
      "                                                                 embedding_1[5][0]                \n",
      "                                                                 embedding_1[6][0]                \n",
      "                                                                 embedding_1[7][0]                \n",
      "                                                                 embedding_1[8][0]                \n",
      "                                                                 embedding_1[9][0]                \n",
      "__________________________________________________________________________________________________\n",
      "add_6 (Add)                     (None, 16)           0           lstm_1[0][0]                     \n",
      "                                                                 lstm_1[1][0]                     \n",
      "                                                                 lstm_1[2][0]                     \n",
      "                                                                 lstm_1[3][0]                     \n",
      "                                                                 lstm_1[4][0]                     \n",
      "__________________________________________________________________________________________________\n",
      "add_7 (Add)                     (None, 16)           0           lstm_1[5][0]                     \n",
      "                                                                 lstm_1[6][0]                     \n",
      "                                                                 lstm_1[7][0]                     \n",
      "                                                                 lstm_1[8][0]                     \n",
      "                                                                 lstm_1[9][0]                     \n",
      "__________________________________________________________________________________________________\n",
      "dense_14 (Dense)                (None, 32)           544         add_6[0][0]                      \n",
      "__________________________________________________________________________________________________\n",
      "dense_15 (Dense)                (None, 32)           544         add_7[0][0]                      \n",
      "__________________________________________________________________________________________________\n",
      "add_8 (Add)                     (None, 32)           0           dense_14[0][0]                   \n",
      "                                                                 dense_15[0][0]                   \n",
      "__________________________________________________________________________________________________\n",
      "dense_16 (Dense)                (None, 16)           528         add_8[0][0]                      \n",
      "__________________________________________________________________________________________________\n",
      "dense_17 (Dense)                (None, 1)            17          dense_16[0][0]                   \n",
      "==================================================================================================\n",
      "Total params: 5,745\n",
      "Trainable params: 5,745\n",
      "Non-trainable params: 0\n",
      "__________________________________________________________________________________________________\n"
     ]
    }
   ],
   "source": [
    "Initializer = tf.keras.initializers.glorot_normal()\n",
    "\n",
    "Hero_1_ = Input(shape=(1,), dtype='int32', name='Hero_1')\n",
    "Hero_2_ = Input(shape=(1,), dtype='int32', name='Hero_2')\n",
    "Hero_3_ = Input(shape=(1,), dtype='int32', name='Hero_3')\n",
    "Hero_4_ = Input(shape=(1,), dtype='int32', name='Hero_4')\n",
    "Hero_5_ = Input(shape=(1,), dtype='int32', name='Hero_5')\n",
    "Hero_6_ = Input(shape=(1,), dtype='int32', name='Hero_6')\n",
    "Hero_7_ = Input(shape=(1,), dtype='int32', name='Hero_7')\n",
    "Hero_8_ = Input(shape=(1,), dtype='int32', name='Hero_8')\n",
    "Hero_9_ = Input(shape=(1,), dtype='int32', name='Hero_9')\n",
    "Hero_10_ = Input(shape=(1,), dtype='int32', name='Hero_10')\n",
    "\n",
    "Emb = Embedding(input_dim=125, output_dim=16, input_length=1)\n",
    "Emb_H1= Emb(Hero_1_)\n",
    "Emb_H2 = Emb(Hero_2_)\n",
    "Emb_H3 = Emb(Hero_3_)\n",
    "Emb_H4 = Emb(Hero_4_)\n",
    "Emb_H5 = Emb(Hero_5_)\n",
    "Emb_H6 = Emb(Hero_6_)\n",
    "Emb_H7 = Emb(Hero_7_)\n",
    "Emb_H8 = Emb(Hero_8_)\n",
    "Emb_H9 = Emb(Hero_9_)\n",
    "Emb_H10 = Emb(Hero_10_)\n",
    "\n",
    "LSTM_Heroes = LSTM(16, input_shape=(1,16))\n",
    "\n",
    "Emb_LSTM_1 = LSTM_Heroes(Emb_H1)\n",
    "Emb_LSTM_2 = LSTM_Heroes(Emb_H2)\n",
    "Emb_LSTM_3 = LSTM_Heroes(Emb_H3)\n",
    "Emb_LSTM_4 = LSTM_Heroes(Emb_H4)\n",
    "Emb_LSTM_5 = LSTM_Heroes(Emb_H5)\n",
    "Emb_LSTM_6 = LSTM_Heroes(Emb_H6)\n",
    "Emb_LSTM_7 = LSTM_Heroes(Emb_H7)\n",
    "Emb_LSTM_8 = LSTM_Heroes(Emb_H8)\n",
    "Emb_LSTM_9 = LSTM_Heroes(Emb_H9)\n",
    "Emb_LSTM_10 = LSTM_Heroes(Emb_H10)\n",
    "\n",
    "Team_1 = Add()([Emb_LSTM_1, Emb_LSTM_2, Emb_LSTM_3, Emb_LSTM_4, Emb_LSTM_5])\n",
    "Team_1_FFNN = Dense(32, activation='tanh', kernel_initializer= Initializer)(Team_1)\n",
    "\n",
    "Team_2 = Add()([Emb_LSTM_6, Emb_LSTM_7, Emb_LSTM_8, Emb_LSTM_9, Emb_LSTM_10])\n",
    "Team_2_FFNN = Dense(32, activation='tanh', kernel_initializer= Initializer)(Team_2)\n",
    "\n",
    "Merged = Add()([Team_1_FFNN, Team_2_FFNN])\n",
    "Layer_1 = Dense(16, activation='tanh', kernel_initializer= Initializer)(Merged)\n",
    "\n",
    "Output = Dense(1, activation='sigmoid')(Layer_1)\n",
    "Model_T = Model(inputs=[Hero_1_, Hero_2_, Hero_3_, Hero_4_, Hero_5_, Hero_6_, Hero_7_, Hero_8_, Hero_9_, Hero_10_], outputs=[Output])\n",
    "Model_T.summary()"
   ]
  },
  {
   "cell_type": "code",
   "execution_count": 19,
   "metadata": {},
   "outputs": [
    {
     "name": "stdout",
     "output_type": "stream",
     "text": [
      "Train on 40000 samples, validate on 10000 samples\n",
      "Epoch 1/5\n",
      "40000/40000 [==============================] - 46s 1ms/step - loss: 0.6810 - acc: 0.5594 - val_loss: 0.6688 - val_acc: 0.5879\n",
      "Epoch 2/5\n",
      "40000/40000 [==============================] - 30s 738us/step - loss: 0.6665 - acc: 0.5922 - val_loss: 0.6687 - val_acc: 0.5917\n",
      "Epoch 3/5\n",
      "40000/40000 [==============================] - 29s 728us/step - loss: 0.6650 - acc: 0.5940 - val_loss: 0.6683 - val_acc: 0.5868\n",
      "Epoch 4/5\n",
      "40000/40000 [==============================] - 30s 740us/step - loss: 0.6648 - acc: 0.5962 - val_loss: 0.6675 - val_acc: 0.5897\n",
      "Epoch 5/5\n",
      "40000/40000 [==============================] - 30s 743us/step - loss: 0.6644 - acc: 0.5963 - val_loss: 0.6691 - val_acc: 0.5911\n"
     ]
    }
   ],
   "source": [
    "Batch_Size = 64\n",
    "Model_T.compile(loss = 'binary_crossentropy', optimizer = 'adam', metrics = ['accuracy'])\n",
    "Model_History = Model_T.fit([Hero_1_Tr, Hero_2_Tr, Hero_3_Tr, Hero_4_Tr, Hero_5_Tr, Hero_6_Tr, Hero_7_Tr, Hero_8_Tr, Hero_9_Tr, Hero_10_Tr], Train_L, epochs=5, verbose = 1, batch_size= Batch_Size, validation_data =([Hero_1_Ts, Hero_2_Ts, Hero_3_Ts, Hero_4_Ts, Hero_5_Ts, Hero_6_Ts, Hero_7_Ts, Hero_8_Ts, Hero_9_Ts, Hero_10_Ts], Test_L))"
   ]
  },
  {
   "cell_type": "code",
   "execution_count": 20,
   "metadata": {},
   "outputs": [
    {
     "data": {
      "image/png": "[encoded data removed]",
      "text/plain": [
       "<Figure size 432x288 with 1 Axes>"
      ]
     },
     "metadata": {},
     "output_type": "display_data"
    }
   ],
   "source": [
    "pyplot.plot(Model_History.history['loss'], label='train')\n",
    "pyplot.plot(Model_History.history['val_loss'], label='test')\n",
    "pyplot.legend()\n",
    "pyplot.show()"
   ]
  },
  {
   "cell_type": "code",
   "execution_count": 21,
   "metadata": {},
   "outputs": [
    {
     "data": {
      "image/png": "[encoded data removed]",
      "text/plain": [
       "<Figure size 432x288 with 1 Axes>"
      ]
     },
     "metadata": {},
     "output_type": "display_data"
    }
   ],
   "source": [
    "pyplot.plot(Model_History.history['acc'], label='train')\n",
    "pyplot.plot(Model_History.history['val_acc'], label='test')\n",
    "pyplot.legend()\n",
    "pyplot.show()"
   ]
  },
  {
   "cell_type": "markdown",
   "metadata": {},
   "source": [
    "#### Lets see what the latest model has to say on my past match, I had lost this game. I am using the hero lookup table to obtain hero id for all the heroes that were played in this match."
   ]
  },
  {
   "cell_type": "code",
   "execution_count": 23,
   "metadata": {},
   "outputs": [
    {
     "name": "stdout",
     "output_type": "stream",
     "text": [
      "My Team Strength: 36.25219762325287%\n",
      "Enemy Team Strength: 63.74780237674713%\n"
     ]
    }
   ],
   "source": [
    "My_Team_Hero_1 = np.asarray([[8]])\n",
    "My_Team_Hero_2 = np.asarray([[36]])\n",
    "My_Team_Hero_3 = np.asarray([[119]])\n",
    "My_Team_Hero_4 = np.asarray([[27]])\n",
    "My_Team_Hero_5 = np.asarray([[75]])\n",
    "\n",
    "Enemy_Team_Hero_1 = np.asarray([[17]])\n",
    "Enemy_Team_Hero_2 = np.asarray([[20]])\n",
    "Enemy_Team_Hero_3 = np.asarray([[71]])\n",
    "Enemy_Team_Hero_4 = np.asarray([[47]])\n",
    "Enemy_Team_Hero_5 = np.asarray([[109]])\n",
    "\n",
    "Draft_Strength = Model_T.predict([My_Team_Hero_1, My_Team_Hero_2, My_Team_Hero_3, My_Team_Hero_4, My_Team_Hero_5, Enemy_Team_Hero_1, Enemy_Team_Hero_2, Enemy_Team_Hero_3, Enemy_Team_Hero_4, Enemy_Team_Hero_5], batch_size=None, verbose=0, steps=None)\n",
    "print('My Team Strength: '+ str(Draft_Strength[0][0]*100) + '%')\n",
    "print('Enemy Team Strength: '+ str(100 - Draft_Strength[0][0]*100) + '%')"
   ]
  }
 ],
 "metadata": {
  "kernelspec": {
   "display_name": "Python 3",
   "language": "python",
   "name": "python3"
  },
  "language_info": {
   "codemirror_mode": {
    "name": "ipython",
    "version": 3
   },
   "file_extension": ".py",
   "mimetype": "text/x-python",
   "name": "python",
   "nbconvert_exporter": "python",
   "pygments_lexer": "ipython3",
   "version": "3.6.5"
  }
 },
 "nbformat": 4,
 "nbformat_minor": 2
}
